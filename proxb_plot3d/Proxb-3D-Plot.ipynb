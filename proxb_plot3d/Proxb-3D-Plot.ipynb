{
    "cells": [
        {
            "cell_type": "markdown",
            "metadata": {},
            "source": [
                "# Figure 1, but for Proxima Centauri b.\n",
                "\n",
                "Overview of the model set-up for the Proxima b case. The *MassFlux* simulation covers the whole sphere, while the *HighRes* simulation is shown by superimposing a high-resolution grid that covers only the substellar region. The graphic shows cloud condensate (white isosurfaces), surface temperature (shading), and free troposphere wind vectors (arrows), focusing on (a) the day side, with the *HighRes* model domain and the cloud condensate isosurface, and (b) the night side of the planet. The cloud condensate is shown using a threshold of $10^{-5}~kg~kg^{-1}$ of total cloud condensate (liquid water plus ice). This figure is available online as an interactive zoom and rotatable figure."
            ]
        },
        {
            "cell_type": "markdown",
            "metadata": {},
            "source": [
                "[Skip code and jump to the figure](#Show-the-figure)\n",
                "\n",
                "----------------------------------"
            ]
        },
        {
            "cell_type": "markdown",
            "metadata": {},
            "source": [
                "## Import necessary libraries"
            ]
        },
        {
            "cell_type": "markdown",
            "metadata": {},
            "source": [
                "Standard library"
            ]
        },
        {
            "cell_type": "code",
            "execution_count": 1,
            "metadata": {
                "tags": []
            },
            "outputs": [],
            "source": [
                "import warnings\n",
                "from pathlib import Path\n",
                "import utils\n",
                "import os\n",
                "\n",
                "warnings.filterwarnings(\"ignore\")"
            ]
        },
        {
            "cell_type": "markdown",
            "metadata": {},
            "source": [
                "3D visualization and mesh analysis library"
            ]
        },
        {
            "cell_type": "code",
            "execution_count": 2,
            "metadata": {
                "tags": []
            },
            "outputs": [],
            "source": [
                "import pyvista as pv"
            ]
        },
        {
            "cell_type": "markdown",
            "metadata": {},
            "source": [
                "Scientific stack"
            ]
        },
        {
            "cell_type": "code",
            "execution_count": 3,
            "metadata": {
                "tags": []
            },
            "outputs": [],
            "source": [
                "import iris\n",
                "import iris_grib\n",
                "import numpy as np\n",
                "# from netCDF4 import Dataset as nc"
            ]
        },
        {
            "cell_type": "code",
            "execution_count": 4,
            "metadata": {
                "tags": []
            },
            "outputs": [],
            "source": [
                "from aeolus.const import init_const\n",
                "from aeolus.plot import subplot_label_generator\n",
                "from aeolus.plot.pv import grid_for_scalar_cube_sph, grid_for_vector_cubes_sph"
            ]
        },
        {
            "cell_type": "markdown",
            "metadata": {},
            "source": [
                "Set white background for 3d figures."
            ]
        },
        {
            "cell_type": "code",
            "execution_count": 5,
            "metadata": {
                "tags": []
            },
            "outputs": [],
            "source": [
                "pv.set_plot_theme(\"document\")"
            ]
        },
        {
            "cell_type": "markdown",
            "metadata": {},
            "source": [
                "Global definitions."
            ]
        },
        {
            "cell_type": "markdown",
            "metadata": {},
            "source": [
                "## Load data"
            ]
        },
        {
            "cell_type": "code",
            "execution_count": 6,
            "metadata": {
                "tags": []
            },
            "outputs": [],
            "source": [
                "# const = init_const(\"proxb\")\n",
                "const = init_const(\"earth\")\n"
            ]
        },
        {
            "cell_type": "code",
            "execution_count": 7,
            "metadata": {},
            "outputs": [],
            "source": [
                "datadir = os.getcwd() + \"/data\"\n",
                "datadir2 = Path.cwd() / \"data\"\n",
                "# datadir = \"/Users/erose/cira_workspace/unity_workspace/Py2Unity/Assets/SatelliteData/\"\n",
                "datadir = \"/Users/erose/cira_workspace/cira-vertical-cloud-products/hdf_practice/files/files_grib/\"\n",
                "#'2022001_lat_long.npz 20220601_cmr_cloud_presence.npz\n",
                "# print(os.listdir(datadir))"
            ]
        },
        {
            "cell_type": "code",
            "execution_count": 8,
            "metadata": {
                "tags": []
            },
            "outputs": [
                {
                    "name": "stdout",
                    "output_type": "stream",
                    "text": [
                        "/Users/erose/cira_workspace/cira-vertical-cloud-products/hdf_practice/files/files_grib/\n",
                        "21.13812255859375 52.58593016598381\n",
                        "(1059,)\n",
                        "-134.09547424316406 -60.95788300257675\n",
                        "(1799,)\n",
                        "Cloud mixing ratio cubes:  (40,)\n",
                        "Cloud ice mixing-ratio cubes:  (40,)\n",
                        "Temp sfc cubes  (1,)\n"
                    ]
                },
                {
                    "data": {
                        "text/plain": [
                            "\"\\ncube = iris.load_cube(filename, 'electron density')\\nequator_constraint = iris.Constraint(grid_latitude=0)\\nheight_constraint = iris.Constraint(height=9000)\\nequator_height_9km_slice = cube.extract(equator_constraint & height_constraint)\\n\""
                        ]
                    },
                    "execution_count": 8,
                    "metadata": {},
                    "output_type": "execute_result"
                }
            ],
            "source": [
                "'''\n",
                "Notes for tomorrow: You have to load in grib data by specifying the variable_id of the connected variable. In the example below, I'm collecting\n",
                "\"Cloud Mixing Ratio\" data and \"Cloud Ice Mixing-Ratio\" data. The corresponding lat/long values should already be included, but if not, I can grab easily.\n",
                "\n",
                "wanted coord_system(): GeogCS(7160000.0)\n",
                "\n",
                "Tomorrow we shoud attempt loading in corresponding lat/long data, and then moving forward to understanding how the plotting works with the related data.\n",
                "Nonetheless, it looks like we can load in ~all~ HRRR data, by just using the sidestep of specifying the variable id. This is great news and means we can load in data\n",
                "fairly easily, without having to convert it to other means. Woo hoo!\n",
                "\n",
                "'''\n",
                "print(datadir)\n",
                "# dset_global = iris.load(datadir2 / \"proxb_global_t_sfc_u_v_w_cld_liq_mf_cld_ice_mf.nc\")\n",
                "# print(dset_global[0])\n",
                "dset_ll = np.load(datadir + \"cld_data/2022001_lat_long.npz\", mmap_mode=\"r\")\n",
                "dset_cmr = iris_grib.load_cubes(datadir + \"20220831hrrr.t23z.wrfprsf00.grib2\")#,\"cloud_mixing_ratio\")#, [\"Cloud mixing ratio\",\"Cloud ice mixing-ratio\",\"isobaric\",\"x\",\"y\"])\n",
                "cubes = list(dset_cmr)\n",
                "lat_proj = dset_ll[\"arr_0\"][0]\n",
                "lon_proj = dset_ll[\"arr_0\"][1] - 360.0\n",
                "lat_min = np.min(lat_proj); lat_max = np.max(lat_proj)\n",
                "lon_min = np.min(lon_proj); lon_max = np.max(lon_proj)\n",
                "finalLatProj = np.arange(lat_min, lat_max, np.abs(lat_min - lat_max)/1059.0)\n",
                "finalLonProj = np.arange(lon_min, lon_max, np.abs(lon_min - lon_max)/1799.0)\n",
                "# finalLonProj = [lon for lon in range(lon_min, lon_max, np.abs(lon_min - lon_max)/1799.0)]\n",
                "# hrrr_points = np.dstack([lat_proj.ravel(),lon_proj.ravel()])[0]\n",
                "# print(hrrr_points, np.shape(hrrr_points))\n",
                "# finalLatProj = []; finalLonProj = []\n",
                "# print(lat_proj.ravel()); print(np.shape(lat_proj.ravel()))\n",
                "# lon_proj = cubes[0].coord(\"projection_x_coordinate\").points / 14983.33333333\n",
                "orig_lat_proj = cubes[0].coord(\"projection_y_coordinate\").points / 17633.33333333\n",
                "orig_lon_proj = cubes[0].coord(\"projection_x_coordinate\").points / 14983.33333333\n",
                "# finalLatProj = np.copy(lat_proj); finalLonProj = np.copy(lon_proj)\n",
                "# conus_poly = utils.loadCONUSPoly()\n",
                "# lat_count = 0; lon_count = 0\n",
                "# for pair in range(len(hrrr_points)):\n",
                "#     if lat_count % 1799 == 0:\n",
                "#         finalLatProj.append(hrrr_points[pair][0])\n",
                "#     if lon_count % 1059 == 0:\n",
                "#         finalLonProj.append(hrrr_points[pair][1])\n",
                "#     lat_count += 1; lon_count += 1 \n",
                "        # if finalLonProj.append(curr_point[1]):\n",
                "        #     eigen_idx = (eigen_idx[0] + 1, eigen_idx[1] + 1)\n",
                "print(finalLatProj[0],finalLatProj[-1]); print(np.shape(finalLatProj))\n",
                "print(finalLonProj[0],finalLonProj[-1]); print(np.shape(finalLonProj))\n",
                "cmr_cubes = []; icmr_cubes = []\n",
                "t_sfc_cubes = []\n",
                "for cube in cubes:\n",
                "    # print(cube)\n",
                "    cube.coord(\"projection_y_coordinate\").points = finalLatProj #finalLatProj\n",
                "    cube.coord(\"projection_x_coordinate\").points = finalLonProj #finalLonProj\n",
                "    ax = str(cube.aux_coords)\n",
                "    attr = str(cube.attributes[\"GRIB_PARAM\"])\n",
                "    if attr == \"GRIB2:d000c001n022\":\n",
                "        # print(cube.standard_name)\n",
                "        cmr_cubes.append(cube)\n",
                "    elif attr == \"GRIB2:d000c001n082\":\n",
                "        # print(\"Cloud ice mixing-ratio\")\n",
                "        cube.units  = \"kg kg-1\"\n",
                "        icmr_cubes.append(cube)\n",
                "    elif attr  == \"GRIB2:d000c000n000\" and \"height\" in ax:\n",
                "        t_sfc_cubes.append(cube)\n",
                "    # print(cube.coord(\"projection_y_coordinate\").points)\n",
                "    # print(cube.coord(\"projection_x_coordinate\").points)\n",
                "    # print(cube.coord_system())\n",
                "\n",
                "print(\"Cloud mixing ratio cubes: \", np.shape(cmr_cubes))\n",
                "print(\"Cloud ice mixing-ratio cubes: \", np.shape(icmr_cubes))\n",
                "print(\"Temp sfc cubes \", np.shape(t_sfc_cubes))\n",
                "'''\n",
                "cube = iris.load_cube(filename, 'electron density')\n",
                "equator_constraint = iris.Constraint(grid_latitude=0)\n",
                "height_constraint = iris.Constraint(height=9000)\n",
                "equator_height_9km_slice = cube.extract(equator_constraint & height_constraint)\n",
                "'''\n",
                "# print(dset_cmr)\n",
                "# cubes = list(dset_global)\n",
                "# print(dset_cmr.shape)\n",
                "# for lvl in dset_cmr:\n",
                "#     try:\n",
                "#         print(lvl.data)\n",
                "#     except:\n",
                "#         print(\"No data for this level\")\n",
                "\n",
                "# for idx, var in enumerate(dset_global):\n",
                "#     print()\n",
                "#     print(\"var = \" + str(idx), var.long_name)\n",
                "\n",
                "\n",
                "# dset_lam = iris.load(datadir / \"proxb_lam_cld_mf.nc\")"
            ]
        },
        {
            "cell_type": "markdown",
            "metadata": {
                "tags": []
            },
            "source": [
                "## Create `pyvista` objects for a composite plot"
            ]
        },
        {
            "cell_type": "markdown",
            "metadata": {},
            "source": [
                "Set cloud condensate isosurface threshold."
            ]
        },
        {
            "cell_type": "code",
            "execution_count": 9,
            "metadata": {
                "tags": []
            },
            "outputs": [
                {
                    "data": {
                        "text/plain": [
                            "6371200.0"
                        ]
                    },
                    "execution_count": 9,
                    "metadata": {},
                    "output_type": "execute_result"
                }
            ],
            "source": [
                "CC_ISOSURF = [1e-5]  # [kg kg-1]\n",
                "RADIUS = float(const.radius.data)  # Planet radius [m]\n",
                "RADIUS"
            ]
        },
        {
            "cell_type": "markdown",
            "metadata": {},
            "source": [
                "Set viewpoints."
            ]
        },
        {
            "cell_type": "code",
            "execution_count": 10,
            "metadata": {
                "tags": []
            },
            "outputs": [],
            "source": [
                "CAM_POS_LATS = [21, 53]\n",
                "CAM_POS_LONS = [-135, -59]\n",
                "\n",
                "# CAM_POS_LATS = [10, 20]\n",
                "# CAM_POS_LONS = [30, 120]"
            ]
        },
        {
            "cell_type": "markdown",
            "metadata": {},
            "source": [
                "### Global"
            ]
        },
        {
            "cell_type": "markdown",
            "metadata": {},
            "source": [
                "Set common visualisation propeties."
            ]
        },
        {
            "cell_type": "code",
            "execution_count": 11,
            "metadata": {
                "tags": []
            },
            "outputs": [],
            "source": [
                "# z_scale = 75.0\n",
                "# z_offset = RADIUS * 1.005\n",
                "\n",
                "z_scale = 100.0\n",
                "z_offset = RADIUS * 1.01"
            ]
        },
        {
            "cell_type": "markdown",
            "metadata": {},
            "source": [
                "Create a grid for the surface temperature."
            ]
        },
        {
            "cell_type": "code",
            "execution_count": 12,
            "metadata": {
                "tags": []
            },
            "outputs": [
                {
                    "name": "stdout",
                    "output_type": "stream",
                    "text": [
                        "[[296.55041504 296.55041504 296.55041504 ... 302.17541504 302.17541504\n",
                        "  302.11291504]\n",
                        " [296.48791504 296.48791504 296.48791504 ... 302.17541504 302.17541504\n",
                        "  302.17541504]\n",
                        " [296.48791504 296.48791504 296.48791504 ... 302.17541504 302.17541504\n",
                        "  302.17541504]\n",
                        " ...\n",
                        " [290.17541504 290.17541504 290.17541504 ... 292.17541504 292.11291504\n",
                        "  292.11291504]\n",
                        " [290.17541504 290.17541504 290.17541504 ... 292.17541504 292.11291504\n",
                        "  292.05041504]\n",
                        " [290.17541504 290.17541504 290.17541504 ... 292.05041504 292.05041504\n",
                        "  292.05041504]]\n",
                        "[21.13812256 21.16784638 21.19757021 ... 52.52648251 52.55620634\n",
                        " 52.58593017]\n"
                    ]
                }
            ],
            "source": [
                "# t_sfc = dset_global.extract_cube(\"cloud_mixing_ratio\")\n",
                "# print(t_sfc.data)\n",
                "#Lat/Long points are structured as two 1D arrays of lats and longs of different sizes (144 - lats, 192 - lons)\n",
                "# lats = t_sfc.coord(\"latitude\").points\n",
                "# lons = t_sfc.coord(\"longitude\").points\n",
                "# print(\"shape = \" + str(np.shape(lats)) + str(np.shape(lons)))\n",
                "# print(\"lats\", lats); print(\"lons\", lons)\n",
                "# longs = t_sfc.extract(\"longitude\")\n",
                "# print(lats.data)\n",
                "# grid_sfc = grid_for_scalar_cube_sph(cmr_cubes[35], z_offset=z_offset, label=\"global_sfc_grid\", isHrrr=True)\n",
                "print(t_sfc_cubes[0].data)\n",
                "print(t_sfc_cubes[0].coord(\"projection_y_coordinate\").points)\n",
                "t_sfc_cubes[0].coord(\"projection_y_coordinate\").points = orig_lat_proj\n",
                "t_sfc_cubes[0].coord(\"projection_x_coordinate\").points = orig_lon_proj\n",
                "grid_sfc = grid_for_scalar_cube_sph(t_sfc_cubes[0], z_offset=z_offset, label=\"global_sfc_grid\", isHrrr=True)\n",
                "# print(cmr_cubes[0].coord(\"projection_x_coordinate\").points)"
            ]
        },
        {
            "cell_type": "markdown",
            "metadata": {},
            "source": [
                "Extract 3 wind components from the global model output."
            ]
        },
        {
            "cell_type": "code",
            "execution_count": null,
            "metadata": {
                "tags": []
            },
            "outputs": [],
            "source": [
                "wind_levels = [5000]  # [m]\n",
                "\n",
                "winds = dset_global.extract(\n",
                "    iris.Constraint(level_height=lambda x: x in wind_levels)\n",
                ").extract([\"x_wind\", \"y_wind\", \"upward_air_velocity\"])"
            ]
        },
        {
            "cell_type": "markdown",
            "metadata": {},
            "source": [
                "Create a grid for the wind vectors."
            ]
        },
        {
            "cell_type": "code",
            "execution_count": null,
            "metadata": {
                "tags": []
            },
            "outputs": [],
            "source": [
                "grid_vec = grid_for_vector_cubes_sph(\n",
                "    *winds,\n",
                "    vector_scale=RADIUS * 0.004,\n",
                "    vertical_wind_scale=1e2,\n",
                "    z_scale=z_scale,\n",
                "    z_offset=z_offset,\n",
                "    xstride=1,\n",
                "    ystride=1,\n",
                "    label=\"global_wind_vectors_grid\",\n",
                ")"
            ]
        },
        {
            "cell_type": "code",
            "execution_count": null,
            "metadata": {
                "tags": []
            },
            "outputs": [],
            "source": [
                "grid_vec"
            ]
        },
        {
            "cell_type": "markdown",
            "metadata": {},
            "source": [
                "Create glyph objects to show wind vectors."
            ]
        },
        {
            "cell_type": "code",
            "execution_count": null,
            "metadata": {
                "tags": []
            },
            "outputs": [],
            "source": [
                "glyphs = grid_vec.glyph(\n",
                "    orient=\"global_wind_vectors_grid\",\n",
                "    scale=\"global_wind_vectors_grid\",\n",
                "    tolerance=0.035,\n",
                ")"
            ]
        },
        {
            "cell_type": "markdown",
            "metadata": {},
            "source": [
                "Extract the total cloud condensate."
            ]
        },
        {
            "cell_type": "code",
            "execution_count": 13,
            "metadata": {
                "tags": []
            },
            "outputs": [
                {
                    "name": "stdout",
                    "output_type": "stream",
                    "text": [
                        "\"'codedValues' not defined in section 7\"\n",
                        "\"'codedValues' not defined in section 7\"\n",
                        "\"'codedValues' not defined in section 7\"\n",
                        "\"'codedValues' not defined in section 7\"\n",
                        "\"'codedValues' not defined in section 7\"\n",
                        "\"'codedValues' not defined in section 7\"\n",
                        "\"'codedValues' not defined in section 7\"\n",
                        "[21.13812256 21.16784638 21.19757021 ... 52.52648251 52.55620634\n",
                        " 52.58593017]\n",
                        "[-134.09547424 -134.05479705 -134.01411986 ...  -61.03923739  -60.99856019\n",
                        "  -60.957883  ]\n",
                        "cloud_mixing_ratio / (kg kg-1)      (pressure: 40; projection_y_coordinate: 1059; projection_x_coordinate: 1799)\n",
                        "    Dimension coordinates:\n",
                        "        pressure                             x                            -                              -\n",
                        "        projection_y_coordinate              -                            x                              -\n",
                        "        projection_x_coordinate              -                            -                              x\n",
                        "    Scalar coordinates:\n",
                        "        forecast_period             0 hours\n",
                        "        forecast_reference_time     2022-08-31 23:00:00\n",
                        "        time                        2022-08-31 23:00:00\n",
                        "    Attributes:\n",
                        "        GRIB_PARAM                  GRIB2:d000c001n022\n"
                    ]
                }
            ],
            "source": [
                "# global_qct = sum(\n",
                "#     dset_global.extract_cubes(\n",
                "#         [\n",
                "#             \"mass_fraction_of_cloud_liquid_water_in_air\",\n",
                "#             \"mass_fraction_of_cloud_ice_in_air\",\n",
                "#         ]\n",
                "#     )\n",
                "# )\n",
                "# global_qct = sum(iris.cube.CubeList(cmr_cubes)) + sum(iris.cube.CubeList(icmr_cubes))\n",
                "# print(global_qct)\n",
                "\n",
                "summed = np.zeros((40,1059,1799),dtype=\"float32\")\n",
                "for cube in range(len(cmr_cubes)):\n",
                "    try:\n",
                "        sum_data = np.zeros((1059,1799),dtype=\"float32\")\n",
                "        sum_data += cmr_cubes[cube].data\n",
                "        sum_data += icmr_cubes[cube].data\n",
                "        summed[cube] = sum_data\n",
                "        # print(cube.data)\n",
                "    except Exception as e:\n",
                "        print(e)\n",
                "total_cmr_cubes = cmr_cubes\n",
                "for lvl in range(len(summed)):\n",
                "    total_cmr_cubes[lvl].data = summed[lvl]\n",
                "total_cmr_cubes = iris.cube.CubeList(total_cmr_cubes)\n",
                "cmr_single_src = total_cmr_cubes.merge_cube()\n",
                "print(cmr_single_src.coord(\"projection_y_coordinate\").points)\n",
                "print(cmr_single_src.coord(\"projection_x_coordinate\").points)\n",
                "print(cmr_single_src)"
            ]
        },
        {
            "cell_type": "markdown",
            "metadata": {},
            "source": [
                "Create a grid for the cloud condensate and extract a 3D contour (isosurface)."
            ]
        },
        {
            "cell_type": "code",
            "execution_count": 14,
            "metadata": {
                "tags": []
            },
            "outputs": [],
            "source": [
                "# cmr_cubeList = iris.cube.CubeList(total_cmr_cubes)\n",
                "# print(total_cmr_cubes)\n",
                "global_qct_cntr = (\n",
                "    grid_for_scalar_cube_sph(\n",
                "        cmr_single_src, z_scale=z_scale, z_offset=z_offset, label=\"global_qct_grid\", isHrrr=True\n",
                "    )\n",
                "    .cell_data_to_point_data()\n",
                "    .contour(isosurfaces=CC_ISOSURF)\n",
                ")"
            ]
        },
        {
            "cell_type": "markdown",
            "metadata": {},
            "source": [
                "### HighRes"
            ]
        },
        {
            "cell_type": "markdown",
            "metadata": {},
            "source": [
                "Set common visualisation propeties."
            ]
        },
        {
            "cell_type": "code",
            "execution_count": 15,
            "metadata": {
                "tags": []
            },
            "outputs": [],
            "source": [
                "# z_scale = 50.0\n",
                "# z_offset = RADIUS * .89\n",
                "\n",
                "z_scale = 120.0\n",
                "z_offset = RADIUS * 1.01\n",
                "# TOPLEV = 60\n",
                "# DLEV = 2  # use every 2nd level\n",
                "# DY = 3  # stride along y-coordinate\n",
                "# DX = 3  # stride along x-coordinate"
            ]
        },
        {
            "cell_type": "markdown",
            "metadata": {},
            "source": [
                "Extract the total cloud condensate from the *HighRes* simulation."
            ]
        },
        {
            "cell_type": "code",
            "execution_count": 16,
            "metadata": {
                "tags": []
            },
            "outputs": [],
            "source": [
                "# lam_qct = dset_lam.extract_cube(\n",
                "#     \"mass_fraction_of_cloud_condensed_water_in_air\",\n",
                "# )\n",
                "lam_qct = cmr_single_src"
            ]
        },
        {
            "cell_type": "markdown",
            "metadata": {},
            "source": [
                "Create a grid from the 3D total cloud condensate field."
            ]
        },
        {
            "cell_type": "code",
            "execution_count": 17,
            "metadata": {
                "tags": []
            },
            "outputs": [],
            "source": [
                "lam_grid = grid_for_scalar_cube_sph(\n",
                "    lam_qct,\n",
                "    z_scale=z_scale,\n",
                "    z_offset=z_offset,\n",
                "    label=\"lam_qct_grid\", isHrrr=True\n",
                ")"
            ]
        },
        {
            "cell_type": "markdown",
            "metadata": {},
            "source": [
                "Create an isosurface of the cloud condensate."
            ]
        },
        {
            "cell_type": "code",
            "execution_count": 18,
            "metadata": {
                "tags": []
            },
            "outputs": [],
            "source": [
                "lam_qct_cntr = lam_grid.cell_data_to_point_data().contour(isosurfaces=CC_ISOSURF)"
            ]
        },
        {
            "cell_type": "markdown",
            "metadata": {},
            "source": [
                "Extract a mesh from the HighRes data."
            ]
        },
        {
            "cell_type": "code",
            "execution_count": 19,
            "metadata": {
                "tags": []
            },
            "outputs": [
                {
                    "name": "stderr",
                    "output_type": "stream",
                    "text": [
                        "\u001b[0m\u001b[2m2023-04-18 14:37:15.965 (  65.862s) [           341DD]    vtkExtractEdges.cxx:435   INFO| \u001b[0mExecuting edge extractor: points are renumbered\u001b[0m\n",
                        "\u001b[0m\u001b[2m2023-04-18 14:37:16.042 (  65.939s) [           341DD]    vtkExtractEdges.cxx:551   INFO| \u001b[0mCreated 221696 edges\u001b[0m\n"
                    ]
                }
            ],
            "source": [
                "lam_dom = (\n",
                "    grid_for_scalar_cube_sph(\n",
                "        lam_qct[:, ::7, ::7],\n",
                "        z_scale=z_scale,\n",
                "        z_offset=z_offset,\n",
                "        label=\"lam_dom\", isHrrr=True\n",
                "    )\n",
                "    .extract_geometry()\n",
                "    .extract_all_edges()\n",
                ")"
            ]
        },
        {
            "cell_type": "markdown",
            "metadata": {},
            "source": [
                "## Prepare data for plotting"
            ]
        },
        {
            "cell_type": "markdown",
            "metadata": {},
            "source": [
                "Pack grids and plotting arguments into a single list."
            ]
        },
        {
            "cell_type": "code",
            "execution_count": 25,
            "metadata": {
                "tags": []
            },
            "outputs": [],
            "source": [
                "VIS_CONTAINER = [\n",
                "    {\n",
                "        # Global surface temperature\n",
                "        \"mesh\": grid_sfc,\n",
                "        \"kwargs\": {\n",
                "            \"cmap\": \"plasma\",\n",
                "            \"clim\": [240,330],\n",
                "            \"show_scalar_bar\": False,\n",
                "            \"smooth_shading\": True,\n",
                "        },\n",
                "    },\n",
                "    # {\n",
                "    #     # Global wind vectors\n",
                "    #     \"mesh\": glyphs,\n",
                "    #     \"kwargs\": {\"cmap\": \"Greys\", \"scalars\": \"GlyphScale\", \"show_scalar_bar\": False},\n",
                "    # },\n",
                "    # {\n",
                "    #     # Global cloud condensate\n",
                "    #     \"mesh\": global_qct_cntr,\n",
                "    #     \"kwargs\": {\n",
                "    #         \"color\": \"#ededff\",\n",
                "    #         \"clim\": [1e-05, 1e-05],\n",
                "    #         \"opacity\": 0.5,\n",
                "    #         \"show_scalar_bar\": False,\n",
                "    #         \"smooth_shading\": True,\n",
                "    #     },\n",
                "    # },\n",
                "    {\n",
                "        # HighRes cloud condensate\n",
                "        \"mesh\": lam_qct_cntr,\n",
                "        \"kwargs\": {\n",
                "            \"color\": \"#ebebff\",\n",
                "            \"clim\": [1e-05, 1e-05],\n",
                "            \"opacity\": 1.0,\n",
                "            \"show_scalar_bar\": False,\n",
                "            \"specular\": 0.5,\n",
                "            \"ambient\": 0.5,\n",
                "            \"smooth_shading\": True,\n",
                "        },\n",
                "    }#,\n",
                "    # {\n",
                "    #     # HighRes domain edges\n",
                "    #     \"mesh\": lam_dom,\n",
                "    #     \"kwargs\": {\n",
                "    #         \"style\": \"wireframe\",\n",
                "    #         \"color\": \"k\",\n",
                "    #         \"opacity\": 0.2,\n",
                "    #         \"smooth_shading\": True,\n",
                "    #     },\n",
                "    # },\n",
                "]"
            ]
        },
        {
            "cell_type": "markdown",
            "metadata": {},
            "source": [
                "## Plot the results"
            ]
        },
        {
            "cell_type": "markdown",
            "metadata": {},
            "source": [
                "Assemble the plot."
            ]
        },
        {
            "cell_type": "code",
            "execution_count": 26,
            "metadata": {
                "tags": []
            },
            "outputs": [],
            "source": [
                "iletters = subplot_label_generator()\n",
                "# pv.global_theme.interactive = True\n",
                "pv.set_jupyter_backend(\"ipyvtklink\")\n",
                "\n",
                "p = pv.Plotter(shape=(1, len(CAM_POS_LONS)), window_size=np.array([1024, 768 // 2]) * 2)\n",
                "\n",
                "for idx, (cam_lon, cam_lat) in enumerate(zip(CAM_POS_LONS, CAM_POS_LATS)):\n",
                "    p.subplot(0, idx)\n",
                "\n",
                "    p.add_text(f\"({next(iletters)})\", font=\"times\", font_size=24)\n",
                "\n",
                "    for plot_dict in VIS_CONTAINER:\n",
                "        p.add_mesh(plot_dict[\"mesh\"], **plot_dict[\"kwargs\"])\n",
                "\n",
                "    p.set_position(pv.grid_from_sph_coords([cam_lon], [90 - cam_lat], [4.5e7]).points)\n",
                "    p.set_focus((0, 0, 0))\n",
                "    p.set_viewup((0, 0, 1))"
            ]
        },
        {
            "cell_type": "markdown",
            "metadata": {},
            "source": [
                "## Show the figure"
            ]
        },
        {
            "cell_type": "code",
            "execution_count": 27,
            "metadata": {
                "tags": []
            },
            "outputs": [
                {
                    "data": {
                        "application/vnd.jupyter.widget-view+json": {
                            "model_id": "219f7fa925ec486383167421647fb013",
                            "version_major": 2,
                            "version_minor": 0
                        },
                        "text/plain": [
                            "ViewInteractiveWidget(height=768, layout=Layout(height='auto', width='100%'), width=2048)"
                        ]
                    },
                    "execution_count": 27,
                    "metadata": {},
                    "output_type": "execute_result"
                }
            ],
            "source": [
                "# p.show()\n",
                "p.show(jupyter_backend=\"ipyvtklink\",return_viewer=True) #jupyter_backend=\"static\"\n",
                "# p.plot()"
            ]
        }
    ],
    "metadata": {
        "kernelspec": {
            "display_name": "base",
            "language": "python",
            "name": "python3"
        },
        "language_info": {
            "codemirror_mode": {
                "name": "ipython",
                "version": 3
            },
            "file_extension": ".py",
            "mimetype": "text/x-python",
            "name": "python",
            "nbconvert_exporter": "python",
            "pygments_lexer": "ipython3",
            "version": "3.11.3"
        }
    },
    "nbformat": 4,
    "nbformat_minor": 4
}
