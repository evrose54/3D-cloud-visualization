{
    "cells": [
        {
            "cell_type": "markdown",
            "metadata": {},
            "source": [
                "# Figure 1, but for Proxima Centauri b.\n",
                "\n",
                "Overview of the model set-up for the Proxima b case. The *MassFlux* simulation covers the whole sphere, while the *HighRes* simulation is shown by superimposing a high-resolution grid that covers only the substellar region. The graphic shows cloud condensate (white isosurfaces), surface temperature (shading), and free troposphere wind vectors (arrows), focusing on (a) the day side, with the *HighRes* model domain and the cloud condensate isosurface, and (b) the night side of the planet. The cloud condensate is shown using a threshold of $10^{-5}~kg~kg^{-1}$ of total cloud condensate (liquid water plus ice). This figure is available online as an interactive zoom and rotatable figure."
            ]
        },
        {
            "cell_type": "markdown",
            "metadata": {},
            "source": [
                "[Skip code and jump to the figure](#Show-the-figure)\n",
                "\n",
                "----------------------------------"
            ]
        },
        {
            "cell_type": "markdown",
            "metadata": {},
            "source": [
                "## Import necessary libraries"
            ]
        },
        {
            "cell_type": "markdown",
            "metadata": {},
            "source": [
                "Standard library"
            ]
        },
        {
            "cell_type": "code",
            "execution_count": 1,
            "metadata": {
                "tags": []
            },
            "outputs": [],
            "source": [
                "import warnings\n",
                "from pathlib import Path\n",
                "import sat_data_to_cubes as wrangler\n",
                "import os\n",
                "\n",
                "warnings.filterwarnings(\"ignore\")"
            ]
        },
        {
            "cell_type": "markdown",
            "metadata": {},
            "source": [
                "3D visualization and mesh analysis library"
            ]
        },
        {
            "cell_type": "code",
            "execution_count": 2,
            "metadata": {
                "tags": []
            },
            "outputs": [],
            "source": [
                "import pyvista as pv\n",
                "from pyvista import examples"
            ]
        },
        {
            "cell_type": "markdown",
            "metadata": {},
            "source": [
                "Scientific stack"
            ]
        },
        {
            "cell_type": "code",
            "execution_count": 3,
            "metadata": {
                "tags": []
            },
            "outputs": [],
            "source": [
                "import iris\n",
                "import iris_grib\n",
                "import numpy as np\n",
                "import csv\n",
                "from matplotlib.colors import ListedColormap\n",
                "# from netCDF4 import Dataset as nc"
            ]
        },
        {
            "cell_type": "code",
            "execution_count": 4,
            "metadata": {
                "tags": []
            },
            "outputs": [],
            "source": [
                "from aeolus.const import init_const\n",
                "from aeolus.plot import subplot_label_generator\n",
                "from aeolus.plot.pv import grid_for_scalar_cube_sph, grid_for_vector_cubes_sph"
            ]
        },
        {
            "cell_type": "markdown",
            "metadata": {},
            "source": [
                "Set white background for 3d figures."
            ]
        },
        {
            "cell_type": "code",
            "execution_count": 5,
            "metadata": {
                "tags": []
            },
            "outputs": [],
            "source": [
                "pv.set_plot_theme(\"document\")"
            ]
        },
        {
            "cell_type": "markdown",
            "metadata": {},
            "source": [
                "Global definitions."
            ]
        },
        {
            "cell_type": "markdown",
            "metadata": {},
            "source": [
                "## Load data"
            ]
        },
        {
            "cell_type": "code",
            "execution_count": 6,
            "metadata": {
                "tags": []
            },
            "outputs": [],
            "source": [
                "# const = init_const(\"proxb\")\n",
                "const = init_const(\"earth\")\n"
            ]
        },
        {
            "cell_type": "code",
            "execution_count": 7,
            "metadata": {},
            "outputs": [],
            "source": [
                "datadir = os.getcwd() + \"/data\"\n",
                "datadir2 = Path.cwd() / \"data\"\n",
                "# datadir = \"/Users/erose/cira_workspace/unity_workspace/Py2Unity/Assets/SatelliteData/\"\n",
                "datadir = \"/Users/erose/cira_workspace/cira-vertical-cloud-products/hdf_practice/files/files_grib/\"\n",
                "#'2022001_lat_long.npz 20220601_cmr_cloud_presence.npz\n",
                "# print(os.listdir(datadir))"
            ]
        },
        {
            "cell_type": "code",
            "execution_count": 8,
            "metadata": {
                "tags": []
            },
            "outputs": [
                {
                    "name": "stdout",
                    "output_type": "stream",
                    "text": [
                        "/Users/erose/cira_workspace/cira-vertical-cloud-products/hdf_practice/files/files_grib/\n",
                        "21.13812255859375 52.58593016598381\n",
                        "(1059,)\n",
                        "-134.09547424316406 -60.95788300257675\n",
                        "(1799,)\n",
                        "Cloud mixing ratio cubes:  (40,)\n",
                        "Cloud ice mixing-ratio cubes:  (40,)\n",
                        "Temp sfc cubes  (1,)\n",
                        "Wind cubes  (3,)\n"
                    ]
                }
            ],
            "source": [
                "'''\n",
                "Notes for tomorrow: You have to load in grib data by specifying the variable_id of the connected variable. In the example below, I'm collecting\n",
                "\"Cloud Mixing Ratio\" data and \"Cloud Ice Mixing-Ratio\" data. The corresponding lat/long values should already be included, but if not, I can grab easily.\n",
                "\n",
                "wanted coord_system(): GeogCS(7160000.0)\n",
                "\n",
                "Tomorrow we shoud attempt loading in corresponding lat/long data, and then moving forward to understanding how the plotting works with the related data.\n",
                "Nonetheless, it looks like we can load in ~all~ HRRR data, by just using the sidestep of specifying the variable id. This is great news and means we can load in data\n",
                "fairly easily, without having to convert it to other means. Woo hoo!\n",
                "\n",
                "'''\n",
                "print(datadir)\n",
                "# dset_global = iris.load(datadir2 / \"proxb_global_t_sfc_u_v_w_cld_liq_mf_cld_ice_mf.nc\")\n",
                "dset_conus = iris.load(os.getcwd() + \"/data/CONUS_goes16_abi_cloud3d_simple_20220925200117.nc\")\n",
                "# test_data = dset_conus.extract(\"cloud3d\")[0].data\n",
                "# prev_val = -9999\n",
                "# for lvl in range(2):\n",
                "#     for row in range(np.shape(test_data)[1]):\n",
                "#         for col in range(np.shape(test_data)[2]):\n",
                "#             if test_data[lvl][row][col] > 0 and test_data[lvl][row][col] != prev_val:\n",
                "#                 print(test_data[lvl][row][col]); prev_val = test_data[lvl][row][col]\n",
                "# dset_georing = iris.load(os.getcwd() + \"/data/GEO_stitch_cloud3d_16bits_202212201730V2.nc\")\n",
                "# print(dset_georing)\n",
                "# print(dset_global[0])\n",
                "dset_ll = np.load(datadir + \"cld_data/2022001_lat_long.npz\", mmap_mode=\"r\")\n",
                "dset_cmr = iris_grib.load_cubes(datadir + \"20220831hrrr.t23z.wrfprsf00.grib2\")#,\"cloud_mixing_ratio\")#, [\"Cloud mixing ratio\",\"Cloud ice mixing-ratio\",\"isobaric\",\"x\",\"y\"])\n",
                "cubes = list(dset_cmr)\n",
                "lat_proj = dset_ll[\"arr_0\"][0]\n",
                "lon_proj = dset_ll[\"arr_0\"][1] - 360.0\n",
                "lat_min = np.min(lat_proj); lat_max = np.max(lat_proj)\n",
                "lon_min = np.min(lon_proj); lon_max = np.max(lon_proj)\n",
                "finalLatProj = np.arange(lat_min, lat_max, np.abs(lat_min - lat_max)/1059.0)\n",
                "finalLonProj = np.arange(lon_min, lon_max, np.abs(lon_min - lon_max)/1799.0)\n",
                "orig_lat_proj = cubes[0].coord(\"projection_y_coordinate\").points / 17633.33333333\n",
                "orig_lon_proj = cubes[0].coord(\"projection_x_coordinate\").points / 14983.33333333\n",
                "print(finalLatProj[0],finalLatProj[-1]); print(np.shape(finalLatProj))\n",
                "print(finalLonProj[0],finalLonProj[-1]); print(np.shape(finalLonProj))\n",
                "cmr_cubes = []; icmr_cubes = []\n",
                "t_sfc_cubes = []; wind_cubes = [\"u\",\"v\",\"w\"]\n",
                "for cube in cubes:\n",
                "    # print(cube)\n",
                "    cube.coord(\"projection_y_coordinate\").points = finalLatProj #finalLatProj\n",
                "    cube.coord(\"projection_x_coordinate\").points = finalLonProj #finalLonProj\n",
                "    ax = str(cube.aux_coords)\n",
                "    attr = str(cube.attributes[\"GRIB_PARAM\"])\n",
                "    if attr == \"GRIB2:d000c001n022\":\n",
                "        # print(cube.standard_name)\n",
                "        cmr_cubes.append(cube)\n",
                "    elif attr == \"GRIB2:d000c001n082\":\n",
                "        # print(\"Cloud ice mixing-ratio\")\n",
                "        cube.units  = \"kg kg-1\"\n",
                "        icmr_cubes.append(cube)\n",
                "    elif attr  == \"GRIB2:d000c000n000\" and \"height\" in ax:\n",
                "        t_sfc_cubes.append(cube)\n",
                "    elif attr == \"GRIB2:d000c002n008\" and \"<DimCoord: pressure / (Pa)  [50000.]>\" in ax: #vertical velocity\n",
                "        # print(\"vertical velocity\"); print(ax)\n",
                "        wind_cubes[2] = cube\n",
                "    elif attr == \"GRIB2:d000c002n002\" and \"<DimCoord: pressure / (Pa)  [50000.]>\" in ax: #u component of wind\n",
                "        # print(\"u wind\"); print(ax)\n",
                "        wind_cubes[0] = cube\n",
                "    elif attr == \"GRIB2:d000c002n003\" and \"<DimCoord: pressure / (Pa)  [50000.]>\" in ax: #v component of wind\n",
                "        # print(\"v wind\"); print(ax)\n",
                "        wind_cubes[1] = cube\n",
                "    # print(cube.coord(\"projection_y_coordinate\").points)\n",
                "    # print(cube.coord(\"projection_x_coordinate\").points)\n",
                "    # print(cube.coord_system())\n",
                "\n",
                "print(\"Cloud mixing ratio cubes: \", np.shape(cmr_cubes))\n",
                "print(\"Cloud ice mixing-ratio cubes: \", np.shape(icmr_cubes))\n",
                "print(\"Temp sfc cubes \", np.shape(t_sfc_cubes))\n",
                "print(\"Wind cubes \", np.shape(wind_cubes))\n",
                "wind_cubes = iris.cube.CubeList(wind_cubes)\n",
                "# dset_lam = iris.load(datadir / \"proxb_lam_cld_mf.nc\")"
            ]
        },
        {
            "cell_type": "markdown",
            "metadata": {
                "tags": []
            },
            "source": [
                "## Create `pyvista` objects for a composite plot"
            ]
        },
        {
            "cell_type": "markdown",
            "metadata": {},
            "source": [
                "Set cloud condensate isosurface threshold."
            ]
        },
        {
            "cell_type": "code",
            "execution_count": 9,
            "metadata": {
                "tags": []
            },
            "outputs": [
                {
                    "data": {
                        "text/plain": [
                            "6371200.0"
                        ]
                    },
                    "execution_count": 9,
                    "metadata": {},
                    "output_type": "execute_result"
                }
            ],
            "source": [
                "CC_ISOSURF = [0.00003,0.00004,0.00005,0.00006]  # [kg kg-1]\n",
                "RADIUS = float(const.radius.data)  # Planet radius [m]\n",
                "RADIUS"
            ]
        },
        {
            "cell_type": "markdown",
            "metadata": {},
            "source": [
                "Set viewpoints."
            ]
        },
        {
            "cell_type": "code",
            "execution_count": 10,
            "metadata": {
                "tags": []
            },
            "outputs": [],
            "source": [
                "CAM_POS_LATS = [21, 53]\n",
                "CAM_POS_LONS = [-135, -59]\n",
                "\n",
                "# CAM_POS_LATS = [10, 20]\n",
                "# CAM_POS_LONS = [30, 120]"
            ]
        },
        {
            "cell_type": "markdown",
            "metadata": {},
            "source": [
                "### Global"
            ]
        },
        {
            "cell_type": "markdown",
            "metadata": {},
            "source": [
                "Set common visualisation propeties."
            ]
        },
        {
            "cell_type": "code",
            "execution_count": 11,
            "metadata": {
                "tags": []
            },
            "outputs": [],
            "source": [
                "# z_scale = 75.0\n",
                "# z_offset = RADIUS * 1.005\n",
                "\n",
                "z_scale = 100.0\n",
                "z_offset = RADIUS * 1.01"
            ]
        },
        {
            "cell_type": "markdown",
            "metadata": {},
            "source": [
                "Create a grid for the surface temperature."
            ]
        },
        {
            "cell_type": "code",
            "execution_count": 12,
            "metadata": {
                "tags": []
            },
            "outputs": [],
            "source": [
                "# t_sfc = dset_global.extract_cube(\"cloud_mixing_ratio\")\n",
                "# print(t_sfc.data)\n",
                "#Lat/Long points are structured as two 1D arrays of lats and longs of different sizes (144 - lats, 192 - lons)\n",
                "# lats = t_sfc.coord(\"latitude\").points\n",
                "# lons = t_sfc.coord(\"longitude\").points\n",
                "# print(\"shape = \" + str(np.shape(lats)) + str(np.shape(lons)))\n",
                "# print(\"lats\", lats); print(\"lons\", lons)\n",
                "# longs = t_sfc.extract(\"longitude\")\n",
                "# print(lats.data)\n",
                "# grid_sfc = grid_for_scalar_cube_sph(cmr_cubes[35], z_offset=z_offset, label=\"global_sfc_grid\", isHrrr=True)\n",
                "# print(t_sfc_cubes[0].data)\n",
                "# print(t_sfc_cubes[0].coord(\"projection_y_coordinate\").points)\n",
                "t_sfc_cubes[0].coord(\"projection_y_coordinate\").points = orig_lat_proj\n",
                "t_sfc_cubes[0].coord(\"projection_x_coordinate\").points = orig_lon_proj\n",
                "grid_sfc = grid_for_scalar_cube_sph(t_sfc_cubes[0], z_offset=z_offset, label=\"global_sfc_grid\", isHrrr=True)\n",
                "# print(grid_sfc)\n",
                "# grid_sfc.texture_map_to_sphere(inplace=True)\n",
                "# grid_sfc.t_coords = np.zeros((grid_sfc.points.shape[0], 2))\n",
                "# print(cmr_cubes[0].coord(\"projection_x_coordinate\").points)"
            ]
        },
        {
            "cell_type": "markdown",
            "metadata": {},
            "source": [
                "Extract 3 wind components from the global model output."
            ]
        },
        {
            "cell_type": "code",
            "execution_count": null,
            "metadata": {
                "tags": []
            },
            "outputs": [],
            "source": [
                "wind_levels = [5000]  # [m]\n",
                "\n",
                "winds = dset_global.extract(\n",
                "    iris.Constraint(level_height=lambda x: x in wind_levels)\n",
                ").extract([\"x_wind\", \"y_wind\", \"upward_air_velocity\"])"
            ]
        },
        {
            "cell_type": "markdown",
            "metadata": {},
            "source": [
                "Create a grid for the wind vectors."
            ]
        },
        {
            "cell_type": "code",
            "execution_count": 13,
            "metadata": {
                "tags": []
            },
            "outputs": [],
            "source": [
                "grid_vec = grid_for_vector_cubes_sph(\n",
                "    *wind_cubes,\n",
                "    vector_scale=RADIUS * 0.004,\n",
                "    vertical_wind_scale=1e2,\n",
                "    z_scale=z_scale,\n",
                "    z_offset=z_offset,\n",
                "    xstride=1,\n",
                "    ystride=1,\n",
                "    label=\"global_wind_vectors_grid\",\n",
                "    isHrrr=True,\n",
                ")"
            ]
        },
        {
            "cell_type": "code",
            "execution_count": 14,
            "metadata": {
                "tags": []
            },
            "outputs": [
                {
                    "data": {
                        "text/html": [
                            "<table><tr><th>Header</th><th>Data Arrays</th></tr><tr><td>\n",
                            "<table>\n",
                            "<tr><th>StructuredGrid</th><th>Information</th></tr>\n",
                            "<tr><td>N Cells</td><td>1902284</td></tr>\n",
                            "<tr><td>N Points</td><td>1905141</td></tr>\n",
                            "<tr><td>X Bounds</td><td>-7.422e+06, 5.178e+06</td></tr>\n",
                            "<tr><td>Y Bounds</td><td>-1.067e+07, -4.990e+06</td></tr>\n",
                            "<tr><td>Z Bounds</td><td>4.124e+06, 9.082e+06</td></tr>\n",
                            "<tr><td>Dimensions</td><td>1059, 1799, 1</td></tr>\n",
                            "<tr><td>N Arrays</td><td>1</td></tr>\n",
                            "</table>\n",
                            "\n",
                            "</td><td>\n",
                            "<table>\n",
                            "<tr><th>Name</th><th>Field</th><th>Type</th><th>N Comp</th><th>Min</th><th>Max</th></tr>\n",
                            "<tr><td><b>global_wind_vectors_grid</b></td><td>Points</td><td>float64</td><td>3</td><td>-2.585e+06</td><td>2.801e+06</td></tr>\n",
                            "</table>\n",
                            "\n",
                            "</td></tr> </table>"
                        ],
                        "text/plain": [
                            "StructuredGrid (0x1a17d9d20)\n",
                            "  N Cells:\t1902284\n",
                            "  N Points:\t1905141\n",
                            "  X Bounds:\t-7.422e+06, 5.178e+06\n",
                            "  Y Bounds:\t-1.067e+07, -4.990e+06\n",
                            "  Z Bounds:\t4.124e+06, 9.082e+06\n",
                            "  Dimensions:\t1059, 1799, 1\n",
                            "  N Arrays:\t1"
                        ]
                    },
                    "execution_count": 14,
                    "metadata": {},
                    "output_type": "execute_result"
                }
            ],
            "source": [
                "grid_vec"
            ]
        },
        {
            "cell_type": "markdown",
            "metadata": {},
            "source": [
                "Create glyph objects to show wind vectors."
            ]
        },
        {
            "cell_type": "code",
            "execution_count": 15,
            "metadata": {
                "tags": []
            },
            "outputs": [],
            "source": [
                "glyphs = grid_vec.glyph(\n",
                "    orient=\"global_wind_vectors_grid\",\n",
                "    scale=\"global_wind_vectors_grid\",\n",
                "    tolerance=0.035,\n",
                ")"
            ]
        },
        {
            "cell_type": "markdown",
            "metadata": {},
            "source": [
                "Extract the total cloud condensate."
            ]
        },
        {
            "cell_type": "code",
            "execution_count": 13,
            "metadata": {
                "tags": []
            },
            "outputs": [
                {
                    "name": "stderr",
                    "output_type": "stream",
                    "text": [
                        "HDF5-DIAG: Error detected in HDF5 (1.14.0) thread 1:\n",
                        "  #000: H5A.c line 679 in H5Aopen_by_name(): unable to synchronously open attribute\n",
                        "    major: Attribute\n",
                        "    minor: Can't open object\n",
                        "  #001: H5A.c line 641 in H5A__open_by_name_api_common(): unable to open attribute: '_QuantizeBitGroomNumberOfSignificantDigits'\n",
                        "    major: Attribute\n",
                        "    minor: Can't open object\n",
                        "  #002: H5A.c line 464 in H5A__open_common(): unable to open attribute: '_QuantizeBitGroomNumberOfSignificantDigits'\n",
                        "    major: Attribute\n",
                        "    minor: Can't open object\n",
                        "  #003: H5VLcallback.c line 1138 in H5VL_attr_open(): attribute open failed\n",
                        "    major: Virtual Object Layer\n",
                        "    minor: Can't open object\n",
                        "  #004: H5VLcallback.c line 1105 in H5VL__attr_open(): attribute open failed\n",
                        "    major: Virtual Object Layer\n",
                        "    minor: Can't open object\n",
                        "  #005: H5VLnative_attr.c line 161 in H5VL__native_attr_open(): can't open attribute\n",
                        "    major: Attribute\n",
                        "    minor: Can't open object\n",
                        "  #006: H5Aint.c line 658 in H5A__open_by_name(): unable to load attribute info from object header\n",
                        "    major: Attribute\n",
                        "    minor: Unable to initialize object\n",
                        "  #007: H5Oattribute.c line 502 in H5O__attr_open_by_name(): can't locate attribute: '_QuantizeBitGroomNumberOfSignificantDigits'\n",
                        "    major: Attribute\n",
                        "    minor: Object not found\n",
                        "HDF5-DIAG: Error detected in HDF5 (1.14.0) thread 1:\n",
                        "  #000: H5A.c line 679 in H5Aopen_by_name(): unable to synchronously open attribute\n",
                        "    major: Attribute\n",
                        "    minor: Can't open object\n",
                        "  #001: H5A.c line 641 in H5A__open_by_name_api_common(): unable to open attribute: '_QuantizeGranularBitRoundNumberOfSignificantDigits'\n",
                        "    major: Attribute\n",
                        "    minor: Can't open object\n",
                        "  #002: H5A.c line 464 in H5A__open_common(): unable to open attribute: '_QuantizeGranularBitRoundNumberOfSignificantDigits'\n",
                        "    major: Attribute\n",
                        "    minor: Can't open object\n",
                        "  #003: H5VLcallback.c line 1138 in H5VL_attr_open(): attribute open failed\n",
                        "    major: Virtual Object Layer\n",
                        "    minor: Can't open object\n",
                        "  #004: H5VLcallback.c line 1105 in H5VL__attr_open(): attribute open failed\n",
                        "    major: Virtual Object Layer\n",
                        "    minor: Can't open object\n",
                        "  #005: H5VLnative_attr.c line 161 in H5VL__native_attr_open(): can't open attribute\n",
                        "    major: Attribute\n",
                        "    minor: Can't open object\n",
                        "  #006: H5Aint.c line 658 in H5A__open_by_name(): unable to load attribute info from object header\n",
                        "    major: Attribute\n",
                        "    minor: Unable to initialize object\n",
                        "  #007: H5Oattribute.c line 502 in H5O__attr_open_by_name(): can't locate attribute: '_QuantizeGranularBitRoundNumberOfSignificantDigits'\n",
                        "    major: Attribute\n",
                        "    minor: Object not found\n",
                        "HDF5-DIAG: Error detected in HDF5 (1.14.0) thread 1:\n",
                        "  #000: H5A.c line 679 in H5Aopen_by_name(): unable to synchronously open attribute\n",
                        "    major: Attribute\n",
                        "    minor: Can't open object\n",
                        "  #001: H5A.c line 641 in H5A__open_by_name_api_common(): unable to open attribute: '_QuantizeBitRoundNumberOfSignificantBits'\n",
                        "    major: Attribute\n",
                        "    minor: Can't open object\n",
                        "  #002: H5A.c line 464 in H5A__open_common(): unable to open attribute: '_QuantizeBitRoundNumberOfSignificantBits'\n",
                        "    major: Attribute\n",
                        "    minor: Can't open object\n",
                        "  #003: H5VLcallback.c line 1138 in H5VL_attr_open(): attribute open failed\n",
                        "    major: Virtual Object Layer\n",
                        "    minor: Can't open object\n",
                        "  #004: H5VLcallback.c line 1105 in H5VL__attr_open(): attribute open failed\n",
                        "    major: Virtual Object Layer\n",
                        "    minor: Can't open object\n",
                        "  #005: H5VLnative_attr.c line 161 in H5VL__native_attr_open(): can't open attribute\n",
                        "    major: Attribute\n",
                        "    minor: Can't open object\n",
                        "  #006: H5Aint.c line 658 in H5A__open_by_name(): unable to load attribute info from object header\n",
                        "    major: Attribute\n",
                        "    minor: Unable to initialize object\n",
                        "  #007: H5Oattribute.c line 502 in H5O__attr_open_by_name(): can't locate attribute: '_QuantizeBitRoundNumberOfSignificantBits'\n",
                        "    major: Attribute\n",
                        "    minor: Object not found\n",
                        "HDF5-DIAG: Error detected in HDF5 (1.14.0) thread 2:\n",
                        "  #000: H5A.c line 679 in H5Aopen_by_name(): unable to synchronously open attribute\n",
                        "    major: Attribute\n",
                        "    minor: Can't open object\n",
                        "  #001: H5A.c line 641 in H5A__open_by_name_api_common(): unable to open attribute: '_QuantizeBitGroomNumberOfSignificantDigits'\n",
                        "    major: Attribute\n",
                        "    minor: Can't open object\n",
                        "  #002: H5A.c line 464 in H5A__open_common(): unable to open attribute: '_QuantizeBitGroomNumberOfSignificantDigits'\n",
                        "    major: Attribute\n",
                        "    minor: Can't open object\n",
                        "  #003: H5VLcallback.c line 1138 in H5VL_attr_open(): attribute open failed\n",
                        "    major: Virtual Object Layer\n",
                        "    minor: Can't open object\n",
                        "  #004: H5VLcallback.c line 1105 in H5VL__attr_open(): attribute open failed\n",
                        "    major: Virtual Object Layer\n",
                        "    minor: Can't open object\n",
                        "  #005: H5VLnative_attr.c line 161 in H5VL__native_attr_open(): can't open attribute\n",
                        "    major: Attribute\n",
                        "    minor: Can't open object\n",
                        "  #006: H5Aint.c line 658 in H5A__open_by_name(): unable to load attribute info from object header\n",
                        "    major: Attribute\n",
                        "    minor: Unable to initialize object\n",
                        "  #007: H5Oattribute.c line 502 in H5O__attr_open_by_name(): can't locate attribute: '_QuantizeBitGroomNumberOfSignificantDigits'\n",
                        "    major: Attribute\n",
                        "    minor: Object not found\n",
                        "HDF5-DIAG: Error detected in HDF5 (1.14.0) thread 2:\n",
                        "  #000: H5A.c line 679 in H5Aopen_by_name(): unable to synchronously open attribute\n",
                        "    major: Attribute\n",
                        "    minor: Can't open object\n",
                        "  #001: H5A.c line 641 in H5A__open_by_name_api_common(): unable to open attribute: '_QuantizeGranularBitRoundNumberOfSignificantDigits'\n",
                        "    major: Attribute\n",
                        "    minor: Can't open object\n",
                        "  #002: H5A.c line 464 in H5A__open_common(): unable to open attribute: '_QuantizeGranularBitRoundNumberOfSignificantDigits'\n",
                        "    major: Attribute\n",
                        "    minor: Can't open object\n",
                        "  #003: H5VLcallback.c line 1138 in H5VL_attr_open(): attribute open failed\n",
                        "    major: Virtual Object Layer\n",
                        "    minor: Can't open object\n",
                        "  #004: H5VLcallback.c line 1105 in H5VL__attr_open(): attribute open failed\n",
                        "    major: Virtual Object Layer\n",
                        "    minor: Can't open object\n",
                        "  #005: H5VLnative_attr.c line 161 in H5VL__native_attr_open(): can't open attribute\n",
                        "    major: Attribute\n",
                        "    minor: Can't open object\n",
                        "  #006: H5Aint.c line 658 in H5A__open_by_name(): unable to load attribute info from object header\n",
                        "    major: Attribute\n",
                        "    minor: Unable to initialize object\n",
                        "  #007: H5Oattribute.c line 502 in H5O__attr_open_by_name(): can't locate attribute: '_QuantizeGranularBitRoundNumberOfSignificantDigits'\n",
                        "    major: Attribute\n",
                        "    minor: Object not found\n",
                        "HDF5-DIAG: Error detected in HDF5 (1.14.0) thread 2:\n",
                        "  #000: H5A.c line 679 in H5Aopen_by_name(): unable to synchronously open attribute\n",
                        "    major: Attribute\n",
                        "    minor: Can't open object\n",
                        "  #001: H5A.c line 641 in H5A__open_by_name_api_common(): unable to open attribute: '_QuantizeBitRoundNumberOfSignificantBits'\n",
                        "    major: Attribute\n",
                        "    minor: Can't open object\n",
                        "  #002: H5A.c line 464 in H5A__open_common(): unable to open attribute: '_QuantizeBitRoundNumberOfSignificantBits'\n",
                        "    major: Attribute\n",
                        "    minor: Can't open object\n",
                        "  #003: H5VLcallback.c line 1138 in H5VL_attr_open(): attribute open failed\n",
                        "    major: Virtual Object Layer\n",
                        "    minor: Can't open object\n",
                        "  #004: H5VLcallback.c line 1105 in H5VL__attr_open(): attribute open failed\n",
                        "    major: Virtual Object Layer\n",
                        "    minor: Can't open object\n",
                        "  #005: H5VLnative_attr.c line 161 in H5VL__native_attr_open(): can't open attribute\n",
                        "    major: Attribute\n",
                        "    minor: Can't open object\n",
                        "  #006: H5Aint.c line 658 in H5A__open_by_name(): unable to load attribute info from object header\n",
                        "    major: Attribute\n",
                        "    minor: Unable to initialize object\n",
                        "  #007: H5Oattribute.c line 502 in H5O__attr_open_by_name(): can't locate attribute: '_QuantizeBitRoundNumberOfSignificantBits'\n",
                        "    major: Attribute\n",
                        "    minor: Object not found\n",
                        "HDF5-DIAG: Error detected in HDF5 (1.14.0) thread 3:\n",
                        "  #000: H5A.c line 679 in H5Aopen_by_name(): unable to synchronously open attribute\n",
                        "    major: Attribute\n",
                        "    minor: Can't open object\n",
                        "  #001: H5A.c line 641 in H5A__open_by_name_api_common(): unable to open attribute: '_QuantizeBitGroomNumberOfSignificantDigits'\n",
                        "    major: Attribute\n",
                        "    minor: Can't open object\n",
                        "  #002: H5A.c line 464 in H5A__open_common(): unable to open attribute: '_QuantizeBitGroomNumberOfSignificantDigits'\n",
                        "    major: Attribute\n",
                        "    minor: Can't open object\n",
                        "  #003: H5VLcallback.c line 1138 in H5VL_attr_open(): attribute open failed\n",
                        "    major: Virtual Object Layer\n",
                        "    minor: Can't open object\n",
                        "  #004: H5VLcallback.c line 1105 in H5VL__attr_open(): attribute open failed\n",
                        "    major: Virtual Object Layer\n",
                        "    minor: Can't open object\n",
                        "  #005: H5VLnative_attr.c line 161 in H5VL__native_attr_open(): can't open attribute\n",
                        "    major: Attribute\n",
                        "    minor: Can't open object\n",
                        "  #006: H5Aint.c line 658 in H5A__open_by_name(): unable to load attribute info from object header\n",
                        "    major: Attribute\n",
                        "    minor: Unable to initialize object\n",
                        "  #007: H5Oattribute.c line 502 in H5O__attr_open_by_name(): can't locate attribute: '_QuantizeBitGroomNumberOfSignificantDigits'\n",
                        "    major: Attribute\n",
                        "    minor: Object not found\n",
                        "HDF5-DIAG: Error detected in HDF5 (1.14.0) thread 3:\n",
                        "  #000: H5A.c line 679 in H5Aopen_by_name(): unable to synchronously open attribute\n",
                        "    major: Attribute\n",
                        "    minor: Can't open object\n",
                        "  #001: H5A.c line 641 in H5A__open_by_name_api_common(): unable to open attribute: '_QuantizeGranularBitRoundNumberOfSignificantDigits'\n",
                        "    major: Attribute\n",
                        "    minor: Can't open object\n",
                        "  #002: H5A.c line 464 in H5A__open_common(): unable to open attribute: '_QuantizeGranularBitRoundNumberOfSignificantDigits'\n",
                        "    major: Attribute\n",
                        "    minor: Can't open object\n",
                        "  #003: H5VLcallback.c line 1138 in H5VL_attr_open(): attribute open failed\n",
                        "    major: Virtual Object Layer\n",
                        "    minor: Can't open object\n",
                        "  #004: H5VLcallback.c line 1105 in H5VL__attr_open(): attribute open failed\n",
                        "    major: Virtual Object Layer\n",
                        "    minor: Can't open object\n",
                        "  #005: H5VLnative_attr.c line 161 in H5VL__native_attr_open(): can't open attribute\n",
                        "    major: Attribute\n",
                        "    minor: Can't open object\n",
                        "  #006: H5Aint.c line 658 in H5A__open_by_name(): unable to load attribute info from object header\n",
                        "    major: Attribute\n",
                        "    minor: Unable to initialize object\n",
                        "  #007: H5Oattribute.c line 502 in H5O__attr_open_by_name(): can't locate attribute: '_QuantizeGranularBitRoundNumberOfSignificantDigits'\n",
                        "    major: Attribute\n",
                        "    minor: Object not found\n",
                        "HDF5-DIAG: Error detected in HDF5 (1.14.0) thread 3:\n",
                        "  #000: H5A.c line 679 in H5Aopen_by_name(): unable to synchronously open attribute\n",
                        "    major: Attribute\n",
                        "    minor: Can't open object\n",
                        "  #001: H5A.c line 641 in H5A__open_by_name_api_common(): unable to open attribute: '_QuantizeBitRoundNumberOfSignificantBits'\n",
                        "    major: Attribute\n",
                        "    minor: Can't open object\n",
                        "  #002: H5A.c line 464 in H5A__open_common(): unable to open attribute: '_QuantizeBitRoundNumberOfSignificantBits'\n",
                        "    major: Attribute\n",
                        "    minor: Can't open object\n",
                        "  #003: H5VLcallback.c line 1138 in H5VL_attr_open(): attribute open failed\n",
                        "    major: Virtual Object Layer\n",
                        "    minor: Can't open object\n",
                        "  #004: H5VLcallback.c line 1105 in H5VL__attr_open(): attribute open failed\n",
                        "    major: Virtual Object Layer\n",
                        "    minor: Can't open object\n",
                        "  #005: H5VLnative_attr.c line 161 in H5VL__native_attr_open(): can't open attribute\n",
                        "    major: Attribute\n",
                        "    minor: Can't open object\n",
                        "  #006: H5Aint.c line 658 in H5A__open_by_name(): unable to load attribute info from object header\n",
                        "    major: Attribute\n",
                        "    minor: Unable to initialize object\n",
                        "  #007: H5Oattribute.c line 502 in H5O__attr_open_by_name(): can't locate attribute: '_QuantizeBitRoundNumberOfSignificantBits'\n",
                        "    major: Attribute\n",
                        "    minor: Object not found\n",
                        "HDF5-DIAG: Error detected in HDF5 (1.14.0) thread 4:\n",
                        "  #000: H5A.c line 679 in H5Aopen_by_name(): unable to synchronously open attribute\n",
                        "    major: Attribute\n",
                        "    minor: Can't open object\n",
                        "  #001: H5A.c line 641 in H5A__open_by_name_api_common(): unable to open attribute: '_QuantizeBitGroomNumberOfSignificantDigits'\n",
                        "    major: Attribute\n",
                        "    minor: Can't open object\n",
                        "  #002: H5A.c line 464 in H5A__open_common(): unable to open attribute: '_QuantizeBitGroomNumberOfSignificantDigits'\n",
                        "    major: Attribute\n",
                        "    minor: Can't open object\n",
                        "  #003: H5VLcallback.c line 1138 in H5VL_attr_open(): attribute open failed\n",
                        "    major: Virtual Object Layer\n",
                        "    minor: Can't open object\n",
                        "  #004: H5VLcallback.c line 1105 in H5VL__attr_open(): attribute open failed\n",
                        "    major: Virtual Object Layer\n",
                        "    minor: Can't open object\n",
                        "  #005: H5VLnative_attr.c line 161 in H5VL__native_attr_open(): can't open attribute\n",
                        "    major: Attribute\n",
                        "    minor: Can't open object\n",
                        "  #006: H5Aint.c line 658 in H5A__open_by_name(): unable to load attribute info from object header\n",
                        "    major: Attribute\n",
                        "    minor: Unable to initialize object\n",
                        "  #007: H5Oattribute.c line 502 in H5O__attr_open_by_name(): can't locate attribute: '_QuantizeBitGroomNumberOfSignificantDigits'\n",
                        "    major: Attribute\n",
                        "    minor: Object not found\n",
                        "HDF5-DIAG: Error detected in HDF5 (1.14.0) thread 4:\n",
                        "  #000: H5A.c line 679 in H5Aopen_by_name(): unable to synchronously open attribute\n",
                        "    major: Attribute\n",
                        "    minor: Can't open object\n",
                        "  #001: H5A.c line 641 in H5A__open_by_name_api_common(): unable to open attribute: '_QuantizeGranularBitRoundNumberOfSignificantDigits'\n",
                        "    major: Attribute\n",
                        "    minor: Can't open object\n",
                        "  #002: H5A.c line 464 in H5A__open_common(): unable to open attribute: '_QuantizeGranularBitRoundNumberOfSignificantDigits'\n",
                        "    major: Attribute\n",
                        "    minor: Can't open object\n",
                        "  #003: H5VLcallback.c line 1138 in H5VL_attr_open(): attribute open failed\n",
                        "    major: Virtual Object Layer\n",
                        "    minor: Can't open object\n",
                        "  #004: H5VLcallback.c line 1105 in H5VL__attr_open(): attribute open failed\n",
                        "    major: Virtual Object Layer\n",
                        "    minor: Can't open object\n",
                        "  #005: H5VLnative_attr.c line 161 in H5VL__native_attr_open(): can't open attribute\n",
                        "    major: Attribute\n",
                        "    minor: Can't open object\n",
                        "  #006: H5Aint.c line 658 in H5A__open_by_name(): unable to load attribute info from object header\n",
                        "    major: Attribute\n",
                        "    minor: Unable to initialize object\n",
                        "  #007: H5Oattribute.c line 502 in H5O__attr_open_by_name(): can't locate attribute: '_QuantizeGranularBitRoundNumberOfSignificantDigits'\n",
                        "    major: Attribute\n",
                        "    minor: Object not found\n",
                        "HDF5-DIAG: Error detected in HDF5 (1.14.0) thread 4:\n",
                        "  #000: H5A.c line 679 in H5Aopen_by_name(): unable to synchronously open attribute\n",
                        "    major: Attribute\n",
                        "    minor: Can't open object\n",
                        "  #001: H5A.c line 641 in H5A__open_by_name_api_common(): unable to open attribute: '_QuantizeBitRoundNumberOfSignificantBits'\n",
                        "    major: Attribute\n",
                        "    minor: Can't open object\n",
                        "  #002: H5A.c line 464 in H5A__open_common(): unable to open attribute: '_QuantizeBitRoundNumberOfSignificantBits'\n",
                        "    major: Attribute\n",
                        "    minor: Can't open object\n",
                        "  #003: H5VLcallback.c line 1138 in H5VL_attr_open(): attribute open failed\n",
                        "    major: Virtual Object Layer\n",
                        "    minor: Can't open object\n",
                        "  #004: H5VLcallback.c line 1105 in H5VL__attr_open(): attribute open failed\n",
                        "    major: Virtual Object Layer\n",
                        "    minor: Can't open object\n",
                        "  #005: H5VLnative_attr.c line 161 in H5VL__native_attr_open(): can't open attribute\n",
                        "    major: Attribute\n",
                        "    minor: Can't open object\n",
                        "  #006: H5Aint.c line 658 in H5A__open_by_name(): unable to load attribute info from object header\n",
                        "    major: Attribute\n",
                        "    minor: Unable to initialize object\n",
                        "  #007: H5Oattribute.c line 502 in H5O__attr_open_by_name(): can't locate attribute: '_QuantizeBitRoundNumberOfSignificantBits'\n",
                        "    major: Attribute\n",
                        "    minor: Object not found\n",
                        "HDF5-DIAG: Error detected in HDF5 (1.14.0) thread 5:\n",
                        "  #000: H5A.c line 679 in H5Aopen_by_name(): unable to synchronously open attribute\n",
                        "    major: Attribute\n",
                        "    minor: Can't open object\n",
                        "  #001: H5A.c line 641 in H5A__open_by_name_api_common(): unable to open attribute: '_QuantizeBitGroomNumberOfSignificantDigits'\n",
                        "    major: Attribute\n",
                        "    minor: Can't open object\n",
                        "  #002: H5A.c line 464 in H5A__open_common(): unable to open attribute: '_QuantizeBitGroomNumberOfSignificantDigits'\n",
                        "    major: Attribute\n",
                        "    minor: Can't open object\n",
                        "  #003: H5VLcallback.c line 1138 in H5VL_attr_open(): attribute open failed\n",
                        "    major: Virtual Object Layer\n",
                        "    minor: Can't open object\n",
                        "  #004: H5VLcallback.c line 1105 in H5VL__attr_open(): attribute open failed\n",
                        "    major: Virtual Object Layer\n",
                        "    minor: Can't open object\n",
                        "  #005: H5VLnative_attr.c line 161 in H5VL__native_attr_open(): can't open attribute\n",
                        "    major: Attribute\n",
                        "    minor: Can't open object\n",
                        "  #006: H5Aint.c line 658 in H5A__open_by_name(): unable to load attribute info from object header\n",
                        "    major: Attribute\n",
                        "    minor: Unable to initialize object\n",
                        "  #007: H5Oattribute.c line 502 in H5O__attr_open_by_name(): can't locate attribute: '_QuantizeBitGroomNumberOfSignificantDigits'\n",
                        "    major: Attribute\n",
                        "    minor: Object not found\n",
                        "HDF5-DIAG: Error detected in HDF5 (1.14.0) thread 5:\n",
                        "  #000: H5A.c line 679 in H5Aopen_by_name(): unable to synchronously open attribute\n",
                        "    major: Attribute\n",
                        "    minor: Can't open object\n",
                        "  #001: H5A.c line 641 in H5A__open_by_name_api_common(): unable to open attribute: '_QuantizeGranularBitRoundNumberOfSignificantDigits'\n",
                        "    major: Attribute\n",
                        "    minor: Can't open object\n",
                        "  #002: H5A.c line 464 in H5A__open_common(): unable to open attribute: '_QuantizeGranularBitRoundNumberOfSignificantDigits'\n",
                        "    major: Attribute\n",
                        "    minor: Can't open object\n",
                        "  #003: H5VLcallback.c line 1138 in H5VL_attr_open(): attribute open failed\n",
                        "    major: Virtual Object Layer\n",
                        "    minor: Can't open object\n",
                        "  #004: H5VLcallback.c line 1105 in H5VL__attr_open(): attribute open failed\n",
                        "    major: Virtual Object Layer\n",
                        "    minor: Can't open object\n",
                        "  #005: H5VLnative_attr.c line 161 in H5VL__native_attr_open(): can't open attribute\n",
                        "    major: Attribute\n",
                        "    minor: Can't open object\n",
                        "  #006: H5Aint.c line 658 in H5A__open_by_name(): unable to load attribute info from object header\n",
                        "    major: Attribute\n",
                        "    minor: Unable to initialize object\n",
                        "  #007: H5Oattribute.c line 502 in H5O__attr_open_by_name(): can't locate attribute: '_QuantizeGranularBitRoundNumberOfSignificantDigits'\n",
                        "    major: Attribute\n",
                        "    minor: Object not found\n",
                        "HDF5-DIAG: Error detected in HDF5 (1.14.0) thread 5:\n",
                        "  #000: H5A.c line 679 in H5Aopen_by_name(): unable to synchronously open attribute\n",
                        "    major: Attribute\n",
                        "    minor: Can't open object\n",
                        "  #001: H5A.c line 641 in H5A__open_by_name_api_common(): unable to open attribute: '_QuantizeBitRoundNumberOfSignificantBits'\n",
                        "    major: Attribute\n",
                        "    minor: Can't open object\n",
                        "  #002: H5A.c line 464 in H5A__open_common(): unable to open attribute: '_QuantizeBitRoundNumberOfSignificantBits'\n",
                        "    major: Attribute\n",
                        "    minor: Can't open object\n",
                        "  #003: H5VLcallback.c line 1138 in H5VL_attr_open(): attribute open failed\n",
                        "    major: Virtual Object Layer\n",
                        "    minor: Can't open object\n",
                        "  #004: H5VLcallback.c line 1105 in H5VL__attr_open(): attribute open failed\n",
                        "    major: Virtual Object Layer\n",
                        "    minor: Can't open object\n",
                        "  #005: H5VLnative_attr.c line 161 in H5VL__native_attr_open(): can't open attribute\n",
                        "    major: Attribute\n",
                        "    minor: Can't open object\n",
                        "  #006: H5Aint.c line 658 in H5A__open_by_name(): unable to load attribute info from object header\n",
                        "    major: Attribute\n",
                        "    minor: Unable to initialize object\n",
                        "  #007: H5Oattribute.c line 502 in H5O__attr_open_by_name(): can't locate attribute: '_QuantizeBitRoundNumberOfSignificantBits'\n",
                        "    major: Attribute\n",
                        "    minor: Object not found\n",
                        "HDF5-DIAG: Error detected in HDF5 (1.14.0) thread 6:\n",
                        "  #000: H5A.c line 679 in H5Aopen_by_name(): unable to synchronously open attribute\n",
                        "    major: Attribute\n",
                        "    minor: Can't open object\n",
                        "  #001: H5A.c line 641 in H5A__open_by_name_api_common(): unable to open attribute: '_QuantizeBitGroomNumberOfSignificantDigits'\n",
                        "    major: Attribute\n",
                        "    minor: Can't open object\n",
                        "  #002: H5A.c line 464 in H5A__open_common(): unable to open attribute: '_QuantizeBitGroomNumberOfSignificantDigits'\n",
                        "    major: Attribute\n",
                        "    minor: Can't open object\n",
                        "  #003: H5VLcallback.c line 1138 in H5VL_attr_open(): attribute open failed\n",
                        "    major: Virtual Object Layer\n",
                        "    minor: Can't open object\n",
                        "  #004: H5VLcallback.c line 1105 in H5VL__attr_open(): attribute open failed\n",
                        "    major: Virtual Object Layer\n",
                        "    minor: Can't open object\n",
                        "  #005: H5VLnative_attr.c line 161 in H5VL__native_attr_open(): can't open attribute\n",
                        "    major: Attribute\n",
                        "    minor: Can't open object\n",
                        "  #006: H5Aint.c line 658 in H5A__open_by_name(): unable to load attribute info from object header\n",
                        "    major: Attribute\n",
                        "    minor: Unable to initialize object\n",
                        "  #007: H5Oattribute.c line 502 in H5O__attr_open_by_name(): can't locate attribute: '_QuantizeBitGroomNumberOfSignificantDigits'\n",
                        "    major: Attribute\n",
                        "    minor: Object not found\n",
                        "HDF5-DIAG: Error detected in HDF5 (1.14.0) thread 6:\n",
                        "  #000: H5A.c line 679 in H5Aopen_by_name(): unable to synchronously open attribute\n",
                        "    major: Attribute\n",
                        "    minor: Can't open object\n",
                        "  #001: H5A.c line 641 in H5A__open_by_name_api_common(): unable to open attribute: '_QuantizeGranularBitRoundNumberOfSignificantDigits'\n",
                        "    major: Attribute\n",
                        "    minor: Can't open object\n",
                        "  #002: H5A.c line 464 in H5A__open_common(): unable to open attribute: '_QuantizeGranularBitRoundNumberOfSignificantDigits'\n",
                        "    major: Attribute\n",
                        "    minor: Can't open object\n",
                        "  #003: H5VLcallback.c line 1138 in H5VL_attr_open(): attribute open failed\n",
                        "    major: Virtual Object Layer\n",
                        "    minor: Can't open object\n",
                        "  #004: H5VLcallback.c line 1105 in H5VL__attr_open(): attribute open failed\n",
                        "    major: Virtual Object Layer\n",
                        "    minor: Can't open object\n",
                        "  #005: H5VLnative_attr.c line 161 in H5VL__native_attr_open(): can't open attribute\n",
                        "    major: Attribute\n",
                        "    minor: Can't open object\n",
                        "  #006: H5Aint.c line 658 in H5A__open_by_name(): unable to load attribute info from object header\n",
                        "    major: Attribute\n",
                        "    minor: Unable to initialize object\n",
                        "  #007: H5Oattribute.c line 502 in H5O__attr_open_by_name(): can't locate attribute: '_QuantizeGranularBitRoundNumberOfSignificantDigits'\n",
                        "    major: Attribute\n",
                        "    minor: Object not found\n",
                        "HDF5-DIAG: Error detected in HDF5 (1.14.0) thread 6:\n",
                        "  #000: H5A.c line 679 in H5Aopen_by_name(): unable to synchronously open attribute\n",
                        "    major: Attribute\n",
                        "    minor: Can't open object\n",
                        "  #001: H5A.c line 641 in H5A__open_by_name_api_common(): unable to open attribute: '_QuantizeBitRoundNumberOfSignificantBits'\n",
                        "    major: Attribute\n",
                        "    minor: Can't open object\n",
                        "  #002: H5A.c line 464 in H5A__open_common(): unable to open attribute: '_QuantizeBitRoundNumberOfSignificantBits'\n",
                        "    major: Attribute\n",
                        "    minor: Can't open object\n",
                        "  #003: H5VLcallback.c line 1138 in H5VL_attr_open(): attribute open failed\n",
                        "    major: Virtual Object Layer\n",
                        "    minor: Can't open object\n",
                        "  #004: H5VLcallback.c line 1105 in H5VL__attr_open(): attribute open failed\n",
                        "    major: Virtual Object Layer\n",
                        "    minor: Can't open object\n",
                        "  #005: H5VLnative_attr.c line 161 in H5VL__native_attr_open(): can't open attribute\n",
                        "    major: Attribute\n",
                        "    minor: Can't open object\n",
                        "  #006: H5Aint.c line 658 in H5A__open_by_name(): unable to load attribute info from object header\n",
                        "    major: Attribute\n",
                        "    minor: Unable to initialize object\n",
                        "  #007: H5Oattribute.c line 502 in H5O__attr_open_by_name(): can't locate attribute: '_QuantizeBitRoundNumberOfSignificantBits'\n",
                        "    major: Attribute\n",
                        "    minor: Object not found\n"
                    ]
                },
                {
                    "name": "stdout",
                    "output_type": "stream",
                    "text": [
                        "[5.e-05 5.e-05 5.e-05 ... 5.e-05 5.e-05 5.e-05]\n"
                    ]
                }
            ],
            "source": [
                "# cloud_types = [\"0001\",\"0010\",\"0011\",\"0100\"]\n",
                "# # global_qct = sum(\n",
                "# #     dset_georing.extract(\"cloud3d\")\n",
                "# # )\n",
                "cloud_cube = dset_conus.extract(\"cloud3d\")[0]\n",
                "cloud_cube.data = wrangler.testNewMask(cloud_cube.data)\n",
                "print(cloud_cube.data[cloud_cube.data == 0.00005])\n",
                "# print(cloud_cube.data)\n",
                "# print(cloud_cube);print(cloud_cube.data)\n",
                "# global_qct = sum(cloud_cube)\n",
                "# # global_qct = sum(iris.cube.CubeList(cmr_cubes)) + sum(iris.cube.CubeList(icmr_cubes))\n",
                "# lats = dset_georing.extract(\"latitude\")\n",
                "# lons = dset_georing.extract(\"longitude\")\n",
                "# lvls = dset_georing.extract(\"altitude\")\n",
                "lats = np.arange(lat_min, lat_max, np.abs(lat_min - lat_max)/1350.0)\n",
                "lons = np.arange(lon_min, lon_max, np.abs(lon_min - lon_max)/3250.0)\n",
                "lvls = [float(i) * 650 for i in range(51)]\n",
                "lat_coord = iris.coords.DimCoord(lats, \"latitude\", units=\"degrees\")\n",
                "lon_coord = iris.coords.DimCoord(lons, \"longitude\", units=\"degrees\")\n",
                "lvl_coord = iris.coords.DimCoord(lvls, \"altitude\", units=\"km\")\n",
                "\n",
                "cloud_cube.add_dim_coord(lvl_coord,data_dim=0)\n",
                "cloud_cube.add_dim_coord(lat_coord,data_dim=1)\n",
                "cloud_cube.add_dim_coord(lon_coord,data_dim=2)\n",
                "# print(cloud_cube)\n",
                "# print(cloud_cube.data); print(cloud_cube.data.shape)\n",
                "# global_qct.add_dim_coord(lvl_coord,data_dim=0)\n",
                "# global_qct.add_dim_coord(lat_coord,data_dim=1)\n",
                "# global_qct.add_dim_coord(lon_coord,data_dim=2)\n",
                "# print(global_qct)\n",
                "\n",
                "# summed = np.zeros((40,1059,1799),dtype=\"float32\")\n",
                "# for cube in range(len(cmr_cubes)):\n",
                "#     try:\n",
                "#         sum_data = np.zeros((1059,1799),dtype=\"float32\")\n",
                "#         sum_data += cmr_cubes[cube].data\n",
                "#         sum_data += icmr_cubes[cube].data\n",
                "#         summed[cube] = sum_data\n",
                "#         # print(cube.data)\n",
                "#     except Exception as e:\n",
                "#         print(e)\n",
                "# total_cmr_cubes = cmr_cubes\n",
                "# for lvl in range(len(summed)):\n",
                "#     total_cmr_cubes[lvl].data = summed[lvl]\n",
                "# total_cmr_cubes = iris.cube.CubeList(total_cmr_cubes)\n",
                "# cmr_single_src = total_cmr_cubes.merge_cube()\n",
                "# print(cmr_single_src.coord(\"projection_y_coordinate\").points)\n",
                "# print(cmr_single_src.coord(\"projection_x_coordinate\").points)\n",
                "# print(cmr_single_src)"
            ]
        },
        {
            "cell_type": "markdown",
            "metadata": {},
            "source": [
                "Create a grid for the cloud condensate and extract a 3D contour (isosurface)."
            ]
        },
        {
            "cell_type": "code",
            "execution_count": 14,
            "metadata": {
                "tags": []
            },
            "outputs": [
                {
                    "name": "stdout",
                    "output_type": "stream",
                    "text": [
                        "[5.e-05 5.e-05 5.e-05 ... 4.e-05 4.e-05 4.e-05]\n",
                        "PolyData (0x19f7146a0)\n",
                        "  N Cells:\t28977416\n",
                        "  N Points:\t14527847\n",
                        "  X Bounds:\t-5.448e+06, 4.402e+06\n",
                        "  Y Bounds:\t-9.042e+06, -2.837e+06\n",
                        "  Z Bounds:\t2.308e+06, 7.695e+06\n",
                        "  N Arrays:\t1\n",
                        "\n"
                    ]
                }
            ],
            "source": [
                "# cmr_cubeList = iris.cube.CubeList(total_cmr_cubes)\n",
                "# print(total_cmr_cubes)\n",
                "cmr_data = cloud_cube\n",
                "print(cloud_cube.data[cloud_cube.data > 0])\n",
                "# cmr_data = cmr_single_src\n",
                "# cmr_data = global_qct\n",
                "# print(cmr_data.data)\n",
                "global_qct_cntr = (\n",
                "    grid_for_scalar_cube_sph(\n",
                "        cmr_data, z_scale=z_scale, z_offset=z_offset, label=\"global_qct_grid\", isGeo=True\n",
                "    )\n",
                "    .cell_data_to_point_data()\n",
                "    .contour(isosurfaces=CC_ISOSURF,compute_scalars=True)\n",
                "    # .contour(isosurfaces=CC_ISOSURF,scalars=cloud_cube.data)\n",
                ")\n",
                "print(global_qct_cntr)"
            ]
        },
        {
            "cell_type": "markdown",
            "metadata": {},
            "source": [
                "### HighRes"
            ]
        },
        {
            "cell_type": "markdown",
            "metadata": {},
            "source": [
                "Set common visualisation propeties."
            ]
        },
        {
            "cell_type": "code",
            "execution_count": 15,
            "metadata": {
                "tags": []
            },
            "outputs": [],
            "source": [
                "# z_scale = 50.0\n",
                "# z_offset = RADIUS * .89\n",
                "\n",
                "z_scale = 120.0\n",
                "z_offset = RADIUS * 1.02\n",
                "# TOPLEV = 60\n",
                "# DLEV = 2  # use every 2nd level\n",
                "# DY = 3  # stride along y-coordinate\n",
                "# DX = 3  # stride along x-coordinate"
            ]
        },
        {
            "cell_type": "markdown",
            "metadata": {},
            "source": [
                "Extract the total cloud condensate from the *HighRes* simulation."
            ]
        },
        {
            "cell_type": "code",
            "execution_count": 16,
            "metadata": {
                "tags": []
            },
            "outputs": [
                {
                    "name": "stdout",
                    "output_type": "stream",
                    "text": [
                        "[5.e-05 5.e-05 5.e-05 ... 5.e-05 5.e-05 5.e-05]\n"
                    ]
                }
            ],
            "source": [
                "# lam_qct = dset_lam.extract_cube(\n",
                "#     \"mass_fraction_of_cloud_condensed_water_in_air\",\n",
                "# )\n",
                "# lam_qct = cmr_single_src\n",
                "lam_qct = cloud_cube\n",
                "print(lam_qct.data[lam_qct.data == 0.00005])"
            ]
        },
        {
            "cell_type": "markdown",
            "metadata": {},
            "source": [
                "Create a grid from the 3D total cloud condensate field."
            ]
        },
        {
            "cell_type": "code",
            "execution_count": 17,
            "metadata": {
                "tags": []
            },
            "outputs": [
                {
                    "name": "stdout",
                    "output_type": "stream",
                    "text": [
                        "StructuredGrid (0x19fea4d00)\n",
                        "  N Cells:\t223762500\n",
                        "  N Points:\t228389252\n",
                        "  X Bounds:\t-6.776e+06, 4.731e+06\n",
                        "  Y Bounds:\t-9.736e+06, -2.817e+06\n",
                        "  Z Bounds:\t2.328e+06, 8.292e+06\n",
                        "  Dimensions:\t1351, 3251, 52\n",
                        "  N Arrays:\t1\n",
                        "\n"
                    ]
                }
            ],
            "source": [
                "lam_grid = grid_for_scalar_cube_sph(\n",
                "    lam_qct,\n",
                "    z_scale=z_scale,\n",
                "    z_offset=z_offset,\n",
                "    label=\"lam_qct_grid\", isGeo=True\n",
                ")\n",
                "print(lam_grid)"
            ]
        },
        {
            "cell_type": "markdown",
            "metadata": {},
            "source": [
                "Create an isosurface of the cloud condensate."
            ]
        },
        {
            "cell_type": "code",
            "execution_count": 18,
            "metadata": {
                "tags": []
            },
            "outputs": [],
            "source": [
                "# cntr_water = lam_grid.contour(isosurfaces=[CC_ISOSURF[0]],compute_scalars=True)\n",
                "# cntr_super = lam_grid.contour(isosurfaces=[CC_ISOSURF[1]],compute_scalars=True)\n",
                "# cntr_mixed = lam_grid.contour(isosurfaces=[CC_ISOSURF[2]],compute_scalars=True)\n",
                "# cntr_ice = lam_grid.contour(isosurfaces=[CC_ISOSURF[3]],compute_scalars=True)\n",
                "\n",
                "cntr_all = lam_grid.cell_data_to_point_data(pass_cell_data=True).contour(isosurfaces=CC_ISOSURF,compute_scalars=True)\n",
                "# cntr_super = lam_grid.cell_data_to_point_data(pass_cell_data=True).contour(isosurfaces=[CC_ISOSURF[1]],compute_scalars=True)\n",
                "# cntr_mixed = lam_grid.cell_data_to_point_data(pass_cell_data=True).contour(isosurfaces=[CC_ISOSURF[2]],compute_scalars=True)\n",
                "# cntr_ice = lam_grid.cell_data_to_point_data(pass_cell_data=True).contour(isosurfaces=[CC_ISOSURF[3]],compute_scalars=True)\n"
            ]
        },
        {
            "cell_type": "markdown",
            "metadata": {},
            "source": [
                "Extract a mesh from the HighRes data."
            ]
        },
        {
            "cell_type": "code",
            "execution_count": 19,
            "metadata": {
                "tags": []
            },
            "outputs": [
                {
                    "name": "stdout",
                    "output_type": "stream",
                    "text": [
                        "[0.e+00 5.e-05 5.e-05 ... 5.e-05 5.e-05 0.e+00]\n"
                    ]
                },
                {
                    "name": "stderr",
                    "output_type": "stream",
                    "text": [
                        "\u001b[0m\u001b[2m2023-04-21 12:36:12.620 ( 358.267s) [           207BA]    vtkExtractEdges.cxx:435   INFO| \u001b[0mExecuting edge extractor: points are renumbered\u001b[0m\n",
                        "\u001b[0m\u001b[2m2023-04-21 12:36:12.807 ( 358.453s) [           207BA]    vtkExtractEdges.cxx:551   INFO| \u001b[0mCreated 493212 edges\u001b[0m\n"
                    ]
                }
            ],
            "source": [
                "# print(lam_grid.cell_data_to_point_data())\n",
                "print(cntr_all.cell_data.active_scalars)\n",
                "# print(cntr_super.cell_data.active_scalars)\n",
                "# print(cntr_mixed)\n",
                "# print(cntr_ice)\n",
                "lam_dom = (\n",
                "    grid_for_scalar_cube_sph(\n",
                "        lam_qct[:, ::7, ::7],\n",
                "        z_scale=z_scale,\n",
                "        z_offset=z_offset,\n",
                "        label=\"lam_dom\", isGeo=True\n",
                "    )\n",
                "    .extract_geometry()\n",
                "    .extract_all_edges()\n",
                ")"
            ]
        },
        {
            "attachments": {},
            "cell_type": "markdown",
            "metadata": {},
            "source": [
                "# CLFOS Implementation"
            ]
        },
        {
            "cell_type": "code",
            "execution_count": 30,
            "metadata": {
                "tags": []
            },
            "outputs": [
                {
                    "name": "stdout",
                    "output_type": "stream",
                    "text": [
                        "(14527847, 3)\n",
                        "11725930 11725930\n",
                        "[ 1916772.42238925 -3463798.73948788  5143819.39138018]\n",
                        "[1916772.4223892507, -3463798.73948788, 10287638.782760367]\n",
                        "[23457506 23460179 23460176]\n"
                    ]
                }
            ],
            "source": [
                "start_point = []; end_point = []\n",
                "with open(os.getcwd() + \"/data/3DCloud_CFLOS_P2P_LOS.csv\") as cflos_file:\n",
                "    cflos_list =  list(csv.reader(cflos_file))\n",
                "    header = cflos_list[0]\n",
                "    first_point = cflos_list[1]\n",
                "    last_point = cflos_list[-1]\n",
                "    # face_node = lam_qct_cntr.mesh.face_node_connectivity\n",
                "    # indices = face_node.indices_by_location()\n",
                "    start_point = [float(first_point[3]),float(first_point[5]),float(first_point[5])]\n",
                "    end_point = [float(last_point[3]),float(last_point[5]),float(last_point[5])]\n",
                "    # start_lat = cloud_cube.coord(\"latitude\").points[np.argmin(np.abs(float(first_point[0]) -  cloud_cube.coord(\"latitude\").points))]\n",
                "    # start_lon = cloud_cube.coord(\"longitude\").points[np.argmin(np.abs(float(first_point[1]) -  cloud_cube.coord(\"longitude\").points))]\n",
                "    # start_alt = cloud_cube.coord(\"altitude\").points[np.argmin(np.abs(((float(first_point[2]) / 100) * 650) -  cloud_cube.coord(\"altitude\").points))]\n",
                "\n",
                "    # start_idx = lam_qct_cntr.find_closest_point(start_point)\n",
                "    # end_idx = lam_qct_cntr.find_closest_point(end_point)\n",
                "    # start_point = lam_qct_cntr.points[start_idx]\n",
                "    # end_point = lam_qct_cntr.points[end_idx]\n",
                "\n",
                "    start_idx = cntr_all.find_closest_point(start_point)\n",
                "    end_idx = cntr_all.find_closest_point(end_point)\n",
                "    print(cntr_all.points.shape)\n",
                "    print(start_idx, end_idx)\n",
                "    start_point = cntr_all.points[start_idx]\n",
                "    end_point = cntr_all.points[end_idx]\n",
                "    # start_point[2] *= 2\n",
                "    # end_point[2] = start_point[2] * 2\n",
                "\n",
                "    # end_lat = cloud_cube.coord(\"latitude\").points[np.argmin(np.abs(float(last_point[0]) -  cloud_cube.coord(\"latitude\").points))]\n",
                "    # end_lon = cloud_cube.coord(\"longitude\").points[np.argmin(np.abs(float(last_point[1]) -  cloud_cube.coord(\"longitude\").points))]\n",
                "    # end_alt = cloud_cube.coord(\"altitude\").points[np.argmin(np.abs(((float(last_point[2]) / 100) * 650) -  cloud_cube.coord(\"altitude\").points))]\n",
                "    # end_point = [end_lat,end_lon,end_alt]\n",
                "    # print(header); print(first_point); print(last_point)\n",
                "# start_point[1] = 0; end_point[1] = 0\n",
                "end_point = [end_point[0],end_point[1],end_point[2] * 2]\n",
                "print(start_point); print(end_point)\n",
                "# points, ind = lam_qct_cntr.ray_trace(start_point,end_point)\n",
                "# points, ind = global_qct_cntr.ray_trace(start_point,end_point)\n",
                "points, ind = cntr_all.ray_trace(start_point,end_point)\n",
                "print(ind)\n",
                "intersection = pv.PolyData(points)\n",
                "cflos = pv.Line(start_point,end_point)\n",
                "# print(global_qct_cntr.points)\n"
            ]
        },
        {
            "cell_type": "markdown",
            "metadata": {},
            "source": [
                "## Prepare data for plotting"
            ]
        },
        {
            "cell_type": "markdown",
            "metadata": {},
            "source": [
                "Pack grids and plotting arguments into a single list."
            ]
        },
        {
            "cell_type": "code",
            "execution_count": 35,
            "metadata": {
                "tags": []
            },
            "outputs": [
                {
                    "name": "stdout",
                    "output_type": "stream",
                    "text": [
                        "(28977416,)\n",
                        "[5.e-05 5.e-05 5.e-05 ... 5.e-05 5.e-05 5.e-05]\n"
                    ]
                }
            ],
            "source": [
                "# scalars = np.linalg.norm(lam_qct.points - lam_qct.center, axis=1)\n",
                "# print(scalars)\n",
                "# earth_mesh = examples.load_globe()\n",
                "# earth_mesh = earth_mesh.scale([0.005,0.005,0.005],inplace=True)\n",
                "earth_mesh = pv.Sphere(radius=RADIUS)\n",
                "# earth.texture_map_to_sphere(inplace=True)\n",
                "# earth.textures['2k_earth_daymap'] = examples.load_globe_texture()\n",
                "annotations = {\n",
                "    0.00003: \"Water\",\n",
                "    0.00004: \"Supercooled\",\n",
                "    0.00005: \"Mixed\",\n",
                "    0.00006: \"Ice\",\n",
                "}\n",
                "cntr_all[\"Cloud Type\"] = cntr_all.cell_data.active_scalars\n",
                "print(cntr_all[\"Cloud Type\"].shape)\n",
                "print(cntr_all[\"Cloud Type\"][cntr_all[\"Cloud Type\"] > 0])\n",
                "# cntr_water[\"Cloud Type\"] = cntr_water.cell_data.active_scalars\n",
                "# cntr_super[\"Cloud Type\"] = cntr_super.cell_data.active_scalars\n",
                "# cntr_mixed[\"Cloud Type\"] = cntr_mixed.cell_data.active_scalars\n",
                "# cntr_ice[\"Cloud Type\"] = cntr_ice.cell_data.active_scalars\n",
                "\n",
                "VIS_CONTAINER = [\n",
                "    {\n",
                "        # Global surface temperature\n",
                "        \"mesh\": earth_mesh,\n",
                "        \"kwargs\": {\n",
                "            \"color\": \"tan\",\n",
                "            \"show_scalar_bar\": False,\n",
                "            \"smooth_shading\": True,\n",
                "        },\n",
                "    },\n",
                "    # {\n",
                "    #     # Global surface temperature\n",
                "    #     \"mesh\": grid_sfc,\n",
                "    #     \"kwargs\": {\n",
                "    #         \"cmap\": \"plasma\",\n",
                "    #         \"clim\": [240,330],\n",
                "    #         \"show_scalar_bar\": False,\n",
                "    #         \"smooth_shading\": True,\n",
                "    #     },\n",
                "    # },\n",
                "    {\n",
                "        # Global surface temperature\n",
                "        \"mesh\": intersection,\n",
                "        \"kwargs\": {\n",
                "            \"color\": \"maroon\",\n",
                "            \"point_size\": 25,\n",
                "            \"label\": \"Intersection Point\",\n",
                "        },\n",
                "    },\n",
                "    {\n",
                "        # Global surface temperature\n",
                "        \"mesh\": cflos,\n",
                "        \"kwargs\": {\n",
                "            \"color\": \"red\",\n",
                "            \"line_width\": 10,\n",
                "            \"label\": \"CFLOS Segment\",\n",
                "        },\n",
                "    },\n",
                "    # {\n",
                "    #     # Global wind vectors\n",
                "    #     \"mesh\": glyphs,\n",
                "    #     \"kwargs\": {\"cmap\": \"Greys\", \"scalars\": \"GlyphScale\", \"show_scalar_bar\": False},\n",
                "    # },\n",
                "    # {\n",
                "    #     # Global cloud condensate\n",
                "    #     \"mesh\": global_qct_cntr,\n",
                "    #     \"kwargs\": {\n",
                "    #         \"cmap\": my_colormap,\n",
                "    #         \"clim\": [0.00003, 0.00006],\n",
                "    #         \"opacity\": 0.5,\n",
                "    #         \"show_scalar_bar\": False,\n",
                "    #         \"smooth_shading\": True,\n",
                "    #     },\n",
                "    # },\n",
                "    # {\n",
                "    #     # HighRes cloud condensate\n",
                "    #     \"mesh\": lam_qct_cntr,\n",
                "    #     \"kwargs\": {\n",
                "    #         \"color\": \"#ebebff\",\n",
                "    #         \"clim\": [0.00003,0.00006],\n",
                "    #         \"opacity\": 1.0,\n",
                "    #         \"show_scalar_bar\": False,\n",
                "    #         \"specular\": 0.5,\n",
                "    #         \"ambient\": 0.5,\n",
                "    #         \"smooth_shading\": True,\n",
                "    #     },\n",
                "    # },\n",
                "    {\n",
                "        # HighRes cloud condensate\n",
                "        \"mesh\": cntr_all,\n",
                "        \"kwargs\": {\n",
                "            \"cmap\": \"jet\",\n",
                "            \"n_colors\": 4,\n",
                "            \"scalars\": \"Cloud Type\",\n",
                "            \"clim\": [0.00003,0.00006],\n",
                "            \"opacity\": 1.0,\n",
                "            \"show_scalar_bar\": True,\n",
                "            \"specular\": 0.5,\n",
                "            \"ambient\": 0.5,\n",
                "            \"smooth_shading\": True,\n",
                "            \"annotations\": annotations,\n",
                "            \"below_color\": 'brown',\n",
                "            \"above_color\": 'black',\n",
                "        },\n",
                "    },\n",
                "    # {\n",
                "    #     # HighRes cloud condensate\n",
                "    #     \"mesh\": cntr_super,\n",
                "    #     \"kwargs\": {\n",
                "    #         \"cmap\": \"Set3\",\n",
                "    #         \"n_colors\": 4,\n",
                "    #         \"scalars\": cntr_super.cell_data.active_scalars,\n",
                "    #         \"clim\": [0.00003,0.00006],\n",
                "    #         \"opacity\": 1.0,\n",
                "    #         \"show_scalar_bar\": True,\n",
                "    #         \"specular\": 0.5,\n",
                "    #         \"ambient\": 0.5,\n",
                "    #         \"smooth_shading\": True,\n",
                "    #     },\n",
                "    # },\n",
                "    # {\n",
                "    #     # HighRes cloud condensate\n",
                "    #     \"mesh\": cntr_mixed,\n",
                "    #     \"kwargs\": {\n",
                "    #         \"color\": \"paleturquoise\",\n",
                "    #         \"clim\": [0.00005, 0.00005],\n",
                "    #         \"opacity\": 1.0,\n",
                "    #         \"show_scalar_bar\": True,\n",
                "    #         \"specular\": 0.5,\n",
                "    #         \"ambient\": 0.5,\n",
                "    #         \"smooth_shading\": True,\n",
                "    #     },\n",
                "    # },\n",
                "    # {\n",
                "    #     # HighRes cloud condensate\n",
                "    #     \"mesh\": cntr_ice,\n",
                "    #     \"kwargs\": {\n",
                "    #         \"color\": \"peru\",\n",
                "    #         \"clim\": [0.00006, 0.00006],\n",
                "    #         \"opacity\": 1.0,\n",
                "    #         \"show_scalar_bar\": True,\n",
                "    #         \"specular\": 0.5,\n",
                "    #         \"ambient\": 0.5,\n",
                "    #         \"smooth_shading\": True,\n",
                "    #     },\n",
                "    # },\n",
                "    # {\n",
                "    #     # HighRes domain edges\n",
                "    #     \"mesh\": lam_dom,\n",
                "    #     \"kwargs\": {\n",
                "    #         \"style\": \"wireframe\",\n",
                "    #         \"color\": \"k\",\n",
                "    #         \"opacity\": 0.2,\n",
                "    #         \"smooth_shading\": True,\n",
                "    #     },\n",
                "    # },\n",
                "]"
            ]
        },
        {
            "cell_type": "markdown",
            "metadata": {},
            "source": [
                "## Plot the results"
            ]
        },
        {
            "cell_type": "markdown",
            "metadata": {},
            "source": [
                "Assemble the plot."
            ]
        },
        {
            "cell_type": "code",
            "execution_count": 36,
            "metadata": {
                "tags": []
            },
            "outputs": [],
            "source": [
                "iletters = subplot_label_generator()\n",
                "# pv.global_theme.interactive = True\n",
                "pv.set_jupyter_backend(\"ipyvtklink\")\n",
                "p = pv.Plotter(shape=(1, len(CAM_POS_LONS)), window_size=np.array([1024, 768 // 2]) * 2)\n",
                "# p.set_environment_texture(earthmap)\n",
                "# sphere.plot(texture=tex, smooth_shading=False, background='black', show_axes=False)\n",
                "\n",
                "# with stars\n",
                "last_mesh = len(VIS_CONTAINER) - 1\n",
                "for idx, (cam_lon, cam_lat) in enumerate(zip(CAM_POS_LONS, CAM_POS_LATS)):\n",
                "    p.subplot(0, idx)\n",
                "    # p.add_background_image('stars.jpeg')\n",
                "\n",
                "    p.add_text(f\"({next(iletters)})\", font=\"times\", font_size=24)\n",
                "    curr_mesh = 0\n",
                "    for plot_dict in VIS_CONTAINER:\n",
                "        # print(plot_dict)\n",
                "        p.add_mesh(plot_dict[\"mesh\"], **plot_dict[\"kwargs\"])\n",
                "        if curr_mesh == last_mesh:\n",
                "            p.add_legend()\n",
                "        curr_mesh += 1\n",
                "    p.set_position(pv.grid_from_sph_coords([cam_lon], [90 - cam_lat], [4.5e7]).points)\n",
                "    # p.enable_point_picking()\n",
                "    p.set_focus((0, 0, 0))\n",
                "    p.set_viewup((0, 0, 1))"
            ]
        },
        {
            "cell_type": "markdown",
            "metadata": {},
            "source": [
                "## Show the figure"
            ]
        },
        {
            "cell_type": "code",
            "execution_count": 37,
            "metadata": {
                "tags": []
            },
            "outputs": [
                {
                    "data": {
                        "application/vnd.jupyter.widget-view+json": {
                            "model_id": "4aa3b74c2718406fad2822ce440152cb",
                            "version_major": 2,
                            "version_minor": 0
                        },
                        "text/plain": [
                            "ViewInteractiveWidget(height=768, layout=Layout(height='auto', width='100%'), width=2048)"
                        ]
                    },
                    "execution_count": 37,
                    "metadata": {},
                    "output_type": "execute_result"
                }
            ],
            "source": [
                "# p.show()\n",
                "p.show(jupyter_backend=\"ipyvtklink\",return_viewer=True)#jupyter_backend=\"static\")# jupyter_backend=\"ipyvtklink\",return_viewer=True\n",
                "# p.plot()"
            ]
        }
    ],
    "metadata": {
        "kernelspec": {
            "display_name": "base",
            "language": "python",
            "name": "python3"
        },
        "language_info": {
            "codemirror_mode": {
                "name": "ipython",
                "version": 3
            },
            "file_extension": ".py",
            "mimetype": "text/x-python",
            "name": "python",
            "nbconvert_exporter": "python",
            "pygments_lexer": "ipython3",
            "version": "3.11.3"
        }
    },
    "nbformat": 4,
    "nbformat_minor": 4
}
